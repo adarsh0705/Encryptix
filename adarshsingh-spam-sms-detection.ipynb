{
 "cells": [
  {
   "cell_type": "code",
   "execution_count": 1,
   "id": "8a19c69b",
   "metadata": {
    "execution": {
     "iopub.execute_input": "2024-05-25T04:58:10.221500Z",
     "iopub.status.busy": "2024-05-25T04:58:10.220681Z",
     "iopub.status.idle": "2024-05-25T04:58:13.649188Z",
     "shell.execute_reply": "2024-05-25T04:58:13.648082Z"
    },
    "papermill": {
     "duration": 3.443482,
     "end_time": "2024-05-25T04:58:13.652073",
     "exception": false,
     "start_time": "2024-05-25T04:58:10.208591",
     "status": "completed"
    },
    "tags": []
   },
   "outputs": [],
   "source": [
    "import numpy as np        \n",
    "import pandas as pd       \n",
    "import matplotlib.pyplot as plt  \n",
    "import seaborn as sns\n",
    "import warnings\n",
    "warnings.filterwarnings('ignore')\n",
    "import imblearn\n",
    "from collections import Counter\n",
    "from imblearn.over_sampling import SMOTE\n",
    "from imblearn.under_sampling import RandomUnderSampler\n",
    "from imblearn.pipeline import Pipeline\n",
    "\n",
    "from sklearn.feature_extraction.text import TfidfVectorizer"
   ]
  },
  {
   "cell_type": "code",
   "execution_count": 2,
   "id": "34143e50",
   "metadata": {
    "execution": {
     "iopub.execute_input": "2024-05-25T04:58:13.676169Z",
     "iopub.status.busy": "2024-05-25T04:58:13.673497Z",
     "iopub.status.idle": "2024-05-25T04:58:13.761315Z",
     "shell.execute_reply": "2024-05-25T04:58:13.758428Z"
    },
    "papermill": {
     "duration": 0.103139,
     "end_time": "2024-05-25T04:58:13.764303",
     "exception": false,
     "start_time": "2024-05-25T04:58:13.661164",
     "status": "completed"
    },
    "tags": []
   },
   "outputs": [
    {
     "data": {
      "text/html": [
       "<div>\n",
       "<style scoped>\n",
       "    .dataframe tbody tr th:only-of-type {\n",
       "        vertical-align: middle;\n",
       "    }\n",
       "\n",
       "    .dataframe tbody tr th {\n",
       "        vertical-align: top;\n",
       "    }\n",
       "\n",
       "    .dataframe thead th {\n",
       "        text-align: right;\n",
       "    }\n",
       "</style>\n",
       "<table border=\"1\" class=\"dataframe\">\n",
       "  <thead>\n",
       "    <tr style=\"text-align: right;\">\n",
       "      <th></th>\n",
       "      <th>v1</th>\n",
       "      <th>v2</th>\n",
       "      <th>Unnamed: 2</th>\n",
       "      <th>Unnamed: 3</th>\n",
       "      <th>Unnamed: 4</th>\n",
       "    </tr>\n",
       "  </thead>\n",
       "  <tbody>\n",
       "    <tr>\n",
       "      <th>0</th>\n",
       "      <td>ham</td>\n",
       "      <td>Go until jurong point, crazy.. Available only ...</td>\n",
       "      <td>NaN</td>\n",
       "      <td>NaN</td>\n",
       "      <td>NaN</td>\n",
       "    </tr>\n",
       "    <tr>\n",
       "      <th>1</th>\n",
       "      <td>ham</td>\n",
       "      <td>Ok lar... Joking wif u oni...</td>\n",
       "      <td>NaN</td>\n",
       "      <td>NaN</td>\n",
       "      <td>NaN</td>\n",
       "    </tr>\n",
       "    <tr>\n",
       "      <th>2</th>\n",
       "      <td>spam</td>\n",
       "      <td>Free entry in 2 a wkly comp to win FA Cup fina...</td>\n",
       "      <td>NaN</td>\n",
       "      <td>NaN</td>\n",
       "      <td>NaN</td>\n",
       "    </tr>\n",
       "    <tr>\n",
       "      <th>3</th>\n",
       "      <td>ham</td>\n",
       "      <td>U dun say so early hor... U c already then say...</td>\n",
       "      <td>NaN</td>\n",
       "      <td>NaN</td>\n",
       "      <td>NaN</td>\n",
       "    </tr>\n",
       "    <tr>\n",
       "      <th>4</th>\n",
       "      <td>ham</td>\n",
       "      <td>Nah I don't think he goes to usf, he lives aro...</td>\n",
       "      <td>NaN</td>\n",
       "      <td>NaN</td>\n",
       "      <td>NaN</td>\n",
       "    </tr>\n",
       "  </tbody>\n",
       "</table>\n",
       "</div>"
      ],
      "text/plain": [
       "     v1                                                 v2 Unnamed: 2  \\\n",
       "0   ham  Go until jurong point, crazy.. Available only ...        NaN   \n",
       "1   ham                      Ok lar... Joking wif u oni...        NaN   \n",
       "2  spam  Free entry in 2 a wkly comp to win FA Cup fina...        NaN   \n",
       "3   ham  U dun say so early hor... U c already then say...        NaN   \n",
       "4   ham  Nah I don't think he goes to usf, he lives aro...        NaN   \n",
       "\n",
       "  Unnamed: 3 Unnamed: 4  \n",
       "0        NaN        NaN  \n",
       "1        NaN        NaN  \n",
       "2        NaN        NaN  \n",
       "3        NaN        NaN  \n",
       "4        NaN        NaN  "
      ]
     },
     "execution_count": 2,
     "metadata": {},
     "output_type": "execute_result"
    }
   ],
   "source": [
    "data = pd.read_csv('/kaggle/input/sms-spam-collection-dataset/spam.csv', encoding='latin1')\n",
    "data.head()"
   ]
  },
  {
   "cell_type": "code",
   "execution_count": 3,
   "id": "46fd9742",
   "metadata": {
    "execution": {
     "iopub.execute_input": "2024-05-25T04:58:13.791610Z",
     "iopub.status.busy": "2024-05-25T04:58:13.790549Z",
     "iopub.status.idle": "2024-05-25T04:58:13.805110Z",
     "shell.execute_reply": "2024-05-25T04:58:13.803273Z"
    },
    "papermill": {
     "duration": 0.030694,
     "end_time": "2024-05-25T04:58:13.808154",
     "exception": false,
     "start_time": "2024-05-25T04:58:13.777460",
     "status": "completed"
    },
    "tags": []
   },
   "outputs": [],
   "source": [
    "data.drop(columns=['Unnamed: 2', 'Unnamed: 3', 'Unnamed: 4'], inplace=True)"
   ]
  },
  {
   "cell_type": "code",
   "execution_count": 4,
   "id": "47720074",
   "metadata": {
    "execution": {
     "iopub.execute_input": "2024-05-25T04:58:13.828257Z",
     "iopub.status.busy": "2024-05-25T04:58:13.827864Z",
     "iopub.status.idle": "2024-05-25T04:58:13.854266Z",
     "shell.execute_reply": "2024-05-25T04:58:13.852998Z"
    },
    "papermill": {
     "duration": 0.040125,
     "end_time": "2024-05-25T04:58:13.857445",
     "exception": false,
     "start_time": "2024-05-25T04:58:13.817320",
     "status": "completed"
    },
    "tags": []
   },
   "outputs": [
    {
     "name": "stdout",
     "output_type": "stream",
     "text": [
      "<class 'pandas.core.frame.DataFrame'>\n",
      "RangeIndex: 5572 entries, 0 to 5571\n",
      "Data columns (total 2 columns):\n",
      " #   Column  Non-Null Count  Dtype \n",
      "---  ------  --------------  ----- \n",
      " 0   v1      5572 non-null   object\n",
      " 1   v2      5572 non-null   object\n",
      "dtypes: object(2)\n",
      "memory usage: 87.2+ KB\n"
     ]
    }
   ],
   "source": [
    "data.info()"
   ]
  },
  {
   "cell_type": "code",
   "execution_count": 5,
   "id": "ec5597e1",
   "metadata": {
    "execution": {
     "iopub.execute_input": "2024-05-25T04:58:13.879632Z",
     "iopub.status.busy": "2024-05-25T04:58:13.878454Z",
     "iopub.status.idle": "2024-05-25T04:58:13.884008Z",
     "shell.execute_reply": "2024-05-25T04:58:13.883255Z"
    },
    "papermill": {
     "duration": 0.019001,
     "end_time": "2024-05-25T04:58:13.886411",
     "exception": false,
     "start_time": "2024-05-25T04:58:13.867410",
     "status": "completed"
    },
    "tags": []
   },
   "outputs": [],
   "source": [
    "data.rename(columns = {'v1': 'target', 'v2': 'Message'}, inplace = True)"
   ]
  },
  {
   "cell_type": "code",
   "execution_count": 6,
   "id": "a5980e3d",
   "metadata": {
    "execution": {
     "iopub.execute_input": "2024-05-25T04:58:13.907698Z",
     "iopub.status.busy": "2024-05-25T04:58:13.907005Z",
     "iopub.status.idle": "2024-05-25T04:58:13.915230Z",
     "shell.execute_reply": "2024-05-25T04:58:13.913895Z"
    },
    "papermill": {
     "duration": 0.022851,
     "end_time": "2024-05-25T04:58:13.918822",
     "exception": false,
     "start_time": "2024-05-25T04:58:13.895971",
     "status": "completed"
    },
    "tags": []
   },
   "outputs": [],
   "source": [
    "from sklearn.preprocessing import LabelEncoder\n",
    "en = LabelEncoder()\n",
    "data['target'] = en.fit_transform(data['target'])"
   ]
  },
  {
   "cell_type": "code",
   "execution_count": 7,
   "id": "f1dc57ae",
   "metadata": {
    "execution": {
     "iopub.execute_input": "2024-05-25T04:58:13.942829Z",
     "iopub.status.busy": "2024-05-25T04:58:13.941668Z",
     "iopub.status.idle": "2024-05-25T04:58:13.956053Z",
     "shell.execute_reply": "2024-05-25T04:58:13.954927Z"
    },
    "papermill": {
     "duration": 0.029538,
     "end_time": "2024-05-25T04:58:13.959241",
     "exception": false,
     "start_time": "2024-05-25T04:58:13.929703",
     "status": "completed"
    },
    "tags": []
   },
   "outputs": [
    {
     "data": {
      "text/html": [
       "<div>\n",
       "<style scoped>\n",
       "    .dataframe tbody tr th:only-of-type {\n",
       "        vertical-align: middle;\n",
       "    }\n",
       "\n",
       "    .dataframe tbody tr th {\n",
       "        vertical-align: top;\n",
       "    }\n",
       "\n",
       "    .dataframe thead th {\n",
       "        text-align: right;\n",
       "    }\n",
       "</style>\n",
       "<table border=\"1\" class=\"dataframe\">\n",
       "  <thead>\n",
       "    <tr style=\"text-align: right;\">\n",
       "      <th></th>\n",
       "      <th>target</th>\n",
       "      <th>Message</th>\n",
       "    </tr>\n",
       "  </thead>\n",
       "  <tbody>\n",
       "    <tr>\n",
       "      <th>0</th>\n",
       "      <td>0</td>\n",
       "      <td>Go until jurong point, crazy.. Available only ...</td>\n",
       "    </tr>\n",
       "    <tr>\n",
       "      <th>1</th>\n",
       "      <td>0</td>\n",
       "      <td>Ok lar... Joking wif u oni...</td>\n",
       "    </tr>\n",
       "    <tr>\n",
       "      <th>2</th>\n",
       "      <td>1</td>\n",
       "      <td>Free entry in 2 a wkly comp to win FA Cup fina...</td>\n",
       "    </tr>\n",
       "    <tr>\n",
       "      <th>3</th>\n",
       "      <td>0</td>\n",
       "      <td>U dun say so early hor... U c already then say...</td>\n",
       "    </tr>\n",
       "    <tr>\n",
       "      <th>4</th>\n",
       "      <td>0</td>\n",
       "      <td>Nah I don't think he goes to usf, he lives aro...</td>\n",
       "    </tr>\n",
       "  </tbody>\n",
       "</table>\n",
       "</div>"
      ],
      "text/plain": [
       "   target                                            Message\n",
       "0       0  Go until jurong point, crazy.. Available only ...\n",
       "1       0                      Ok lar... Joking wif u oni...\n",
       "2       1  Free entry in 2 a wkly comp to win FA Cup fina...\n",
       "3       0  U dun say so early hor... U c already then say...\n",
       "4       0  Nah I don't think he goes to usf, he lives aro..."
      ]
     },
     "execution_count": 7,
     "metadata": {},
     "output_type": "execute_result"
    }
   ],
   "source": [
    "data.head()"
   ]
  },
  {
   "cell_type": "code",
   "execution_count": 8,
   "id": "ab5bff95",
   "metadata": {
    "execution": {
     "iopub.execute_input": "2024-05-25T04:58:13.985007Z",
     "iopub.status.busy": "2024-05-25T04:58:13.983457Z",
     "iopub.status.idle": "2024-05-25T04:58:13.998082Z",
     "shell.execute_reply": "2024-05-25T04:58:13.996878Z"
    },
    "papermill": {
     "duration": 0.030189,
     "end_time": "2024-05-25T04:58:14.002339",
     "exception": false,
     "start_time": "2024-05-25T04:58:13.972150",
     "status": "completed"
    },
    "tags": []
   },
   "outputs": [
    {
     "data": {
      "text/plain": [
       "403"
      ]
     },
     "execution_count": 8,
     "metadata": {},
     "output_type": "execute_result"
    }
   ],
   "source": [
    "data.duplicated().sum()"
   ]
  },
  {
   "cell_type": "code",
   "execution_count": 9,
   "id": "ede744f7",
   "metadata": {
    "execution": {
     "iopub.execute_input": "2024-05-25T04:58:14.024918Z",
     "iopub.status.busy": "2024-05-25T04:58:14.024217Z",
     "iopub.status.idle": "2024-05-25T04:58:14.034451Z",
     "shell.execute_reply": "2024-05-25T04:58:14.032954Z"
    },
    "papermill": {
     "duration": 0.024118,
     "end_time": "2024-05-25T04:58:14.037159",
     "exception": false,
     "start_time": "2024-05-25T04:58:14.013041",
     "status": "completed"
    },
    "tags": []
   },
   "outputs": [],
   "source": [
    "data = data.drop_duplicates(keep = 'first')"
   ]
  },
  {
   "cell_type": "code",
   "execution_count": 10,
   "id": "9e8c9de4",
   "metadata": {
    "execution": {
     "iopub.execute_input": "2024-05-25T04:58:14.058649Z",
     "iopub.status.busy": "2024-05-25T04:58:14.058124Z",
     "iopub.status.idle": "2024-05-25T04:58:14.065658Z",
     "shell.execute_reply": "2024-05-25T04:58:14.064404Z"
    },
    "papermill": {
     "duration": 0.021416,
     "end_time": "2024-05-25T04:58:14.068009",
     "exception": false,
     "start_time": "2024-05-25T04:58:14.046593",
     "status": "completed"
    },
    "tags": []
   },
   "outputs": [
    {
     "data": {
      "text/plain": [
       "(5169, 2)"
      ]
     },
     "execution_count": 10,
     "metadata": {},
     "output_type": "execute_result"
    }
   ],
   "source": [
    "data.shape"
   ]
  },
  {
   "cell_type": "code",
   "execution_count": 11,
   "id": "602fb97a",
   "metadata": {
    "execution": {
     "iopub.execute_input": "2024-05-25T04:58:14.089581Z",
     "iopub.status.busy": "2024-05-25T04:58:14.088401Z",
     "iopub.status.idle": "2024-05-25T04:58:14.608856Z",
     "shell.execute_reply": "2024-05-25T04:58:14.606880Z"
    },
    "papermill": {
     "duration": 0.53506,
     "end_time": "2024-05-25T04:58:14.612441",
     "exception": false,
     "start_time": "2024-05-25T04:58:14.077381",
     "status": "completed"
    },
    "tags": []
   },
   "outputs": [
    {
     "data": {
      "image/png": "[encoded data removed]",
      "text/plain": [
       "<Figure size 2000x500 with 2 Axes>"
      ]
     },
     "metadata": {},
     "output_type": "display_data"
    }
   ],
   "source": [
    "l = data['target'].value_counts()\n",
    "colors = ['#8BC34A','#B2EBF2']\n",
    "\n",
    "fig = plt.subplots(nrows = 1,ncols = 2,figsize = (20,5))\n",
    "plt.subplot(1,2,1)\n",
    "l.plot.pie(explode=[0,0.1],autopct='%1.1f%%',shadow=True, labels=['Ham', 'Spam'], colors=colors)\n",
    "plt.title('Target (%)')\n",
    "\n",
    "\n",
    "plt.subplot(1,2,2)\n",
    "ax = sns.countplot(x='target',data = data, palette = colors,edgecolor = 'black', width=0.4)\n",
    "for rect in ax.patches:\n",
    "    ax.text(rect.get_x() + rect.get_width() / 2, rect.get_height(), rect.get_height(), horizontalalignment='center', fontsize = 11)\n",
    "ax.set_xticklabels(['Ham', 'Spam'])\n",
    "plt.title('Number of Target')\n",
    "plt.show()"
   ]
  },
  {
   "cell_type": "code",
   "execution_count": 12,
   "id": "314deeb7",
   "metadata": {
    "execution": {
     "iopub.execute_input": "2024-05-25T04:58:14.637278Z",
     "iopub.status.busy": "2024-05-25T04:58:14.636852Z",
     "iopub.status.idle": "2024-05-25T04:58:14.642215Z",
     "shell.execute_reply": "2024-05-25T04:58:14.640934Z"
    },
    "papermill": {
     "duration": 0.021859,
     "end_time": "2024-05-25T04:58:14.645370",
     "exception": false,
     "start_time": "2024-05-25T04:58:14.623511",
     "status": "completed"
    },
    "tags": []
   },
   "outputs": [],
   "source": [
    "x = data['Message']\n",
    "y = data['target']"
   ]
  },
  {
   "cell_type": "code",
   "execution_count": 13,
   "id": "86420d4f",
   "metadata": {
    "execution": {
     "iopub.execute_input": "2024-05-25T04:58:14.670909Z",
     "iopub.status.busy": "2024-05-25T04:58:14.670162Z",
     "iopub.status.idle": "2024-05-25T04:58:14.833583Z",
     "shell.execute_reply": "2024-05-25T04:58:14.832250Z"
    },
    "papermill": {
     "duration": 0.179871,
     "end_time": "2024-05-25T04:58:14.836621",
     "exception": false,
     "start_time": "2024-05-25T04:58:14.656750",
     "status": "completed"
    },
    "tags": []
   },
   "outputs": [],
   "source": [
    "feature_extraction = TfidfVectorizer(min_df = 1, stop_words='english', lowercase=True)\n",
    "\n",
    "x_extraction = feature_extraction.fit_transform(x)"
   ]
  },
  {
   "cell_type": "code",
   "execution_count": 14,
   "id": "371c782c",
   "metadata": {
    "execution": {
     "iopub.execute_input": "2024-05-25T04:58:14.861132Z",
     "iopub.status.busy": "2024-05-25T04:58:14.860629Z",
     "iopub.status.idle": "2024-05-25T04:58:14.868678Z",
     "shell.execute_reply": "2024-05-25T04:58:14.867265Z"
    },
    "papermill": {
     "duration": 0.026041,
     "end_time": "2024-05-25T04:58:14.873772",
     "exception": false,
     "start_time": "2024-05-25T04:58:14.847731",
     "status": "completed"
    },
    "tags": []
   },
   "outputs": [
    {
     "name": "stdout",
     "output_type": "stream",
     "text": [
      "  (0, 8026)\t0.19575229718355341\n",
      "  (0, 1051)\t0.349887876326219\n",
      "  (0, 3494)\t0.1638521896261678\n",
      "  (0, 1994)\t0.2951265280780472\n",
      "  (0, 1701)\t0.3338712087191626\n",
      "  (0, 4349)\t0.2951265280780472\n",
      "  (0, 8227)\t0.2470765252568781\n",
      "  (0, 3534)\t0.195355289190792\n",
      "  (0, 1703)\t0.2951265280780472\n",
      "  (0, 1271)\t0.265351062399719\n",
      "  (0, 2271)\t0.2702952522134921\n",
      "  (0, 5741)\t0.2730206060547111\n",
      "  (0, 4224)\t0.349887876326219\n",
      "  (1, 5369)\t0.5464988818914979\n",
      "  (1, 8134)\t0.4304438402468376\n",
      "  (1, 4192)\t0.5233434480300876\n",
      "  (1, 4385)\t0.406925248497845\n",
      "  (1, 5343)\t0.2767319100209511\n",
      "  (2, 77)\t0.23979791195963693\n",
      "  (2, 1128)\t0.16835091112431685\n",
      "  (2, 6062)\t0.16835091112431685\n",
      "  (2, 7701)\t0.12497279140116638\n",
      "  (2, 7028)\t0.20226686886123935\n",
      "  (2, 6010)\t0.17884885821587568\n",
      "  (2, 6115)\t0.16559535588730967\n",
      "  :\t:\n",
      "  (5164, 5118)\t0.24570931529408643\n",
      "  (5164, 8202)\t0.19327861567713003\n",
      "  (5164, 2000)\t0.18810007025693273\n",
      "  (5164, 5894)\t0.1966666491247667\n",
      "  (5164, 6062)\t0.2330967022586123\n",
      "  (5165, 2907)\t0.6008827847681286\n",
      "  (5165, 3252)\t0.5177545373873653\n",
      "  (5165, 8390)\t0.3757346042660214\n",
      "  (5165, 3463)\t0.33770239184681106\n",
      "  (5165, 3789)\t0.34007457958820336\n",
      "  (5166, 7168)\t0.6011326724253736\n",
      "  (5166, 5673)\t0.6011326724253736\n",
      "  (5166, 4992)\t0.5265729012069049\n",
      "  (5167, 1500)\t0.4261540546423954\n",
      "  (5167, 900)\t0.4066461828227878\n",
      "  (5167, 4040)\t0.3537893838573244\n",
      "  (5167, 3587)\t0.30274836007447636\n",
      "  (5167, 1737)\t0.3537893838573244\n",
      "  (5167, 3373)\t0.34413464877224564\n",
      "  (5167, 2532)\t0.23163343051022475\n",
      "  (5167, 4485)\t0.20044236868568546\n",
      "  (5167, 8071)\t0.23940296924515378\n",
      "  (5167, 3265)\t0.203635828026825\n",
      "  (5168, 6323)\t0.7842255424254971\n",
      "  (5168, 7656)\t0.6204758646453824\n"
     ]
    }
   ],
   "source": [
    "print(x_extraction)"
   ]
  },
  {
   "cell_type": "code",
   "execution_count": 15,
   "id": "12888f36",
   "metadata": {
    "execution": {
     "iopub.execute_input": "2024-05-25T04:58:14.899047Z",
     "iopub.status.busy": "2024-05-25T04:58:14.898073Z",
     "iopub.status.idle": "2024-05-25T04:58:15.072829Z",
     "shell.execute_reply": "2024-05-25T04:58:15.071832Z"
    },
    "papermill": {
     "duration": 0.190291,
     "end_time": "2024-05-25T04:58:15.075347",
     "exception": false,
     "start_time": "2024-05-25T04:58:14.885056",
     "status": "completed"
    },
    "tags": []
   },
   "outputs": [
    {
     "data": {
      "text/plain": [
       "Counter({0: 1632, 1: 1632})"
      ]
     },
     "execution_count": 15,
     "metadata": {},
     "output_type": "execute_result"
    }
   ],
   "source": [
    "over = SMOTE(sampling_strategy = 1)\n",
    "under = RandomUnderSampler(sampling_strategy = 0.4)\n",
    "f1 = x_extraction\n",
    "t1 = y\n",
    "\n",
    "steps = [('under', under),('over', over)]\n",
    "pipeline = Pipeline(steps=steps)\n",
    "f1, t1 = pipeline.fit_resample(f1, t1)\n",
    "Counter(t1)"
   ]
  },
  {
   "cell_type": "code",
   "execution_count": 16,
   "id": "e6a52d13",
   "metadata": {
    "execution": {
     "iopub.execute_input": "2024-05-25T04:58:15.101023Z",
     "iopub.status.busy": "2024-05-25T04:58:15.100192Z",
     "iopub.status.idle": "2024-05-25T04:58:15.306124Z",
     "shell.execute_reply": "2024-05-25T04:58:15.304987Z"
    },
    "papermill": {
     "duration": 0.222331,
     "end_time": "2024-05-25T04:58:15.308975",
     "exception": false,
     "start_time": "2024-05-25T04:58:15.086644",
     "status": "completed"
    },
    "tags": []
   },
   "outputs": [],
   "source": [
    "from sklearn.model_selection import train_test_split\n",
    "from sklearn.metrics import confusion_matrix\n",
    "from sklearn.metrics import roc_auc_score, roc_curve\n",
    "from sklearn.model_selection import cross_val_score\n",
    "from sklearn.model_selection import GridSearchCV\n",
    "from sklearn.metrics import classification_report\n",
    "from sklearn.metrics import accuracy_score\n",
    "from sklearn.model_selection import RepeatedStratifiedKFold\n",
    "from sklearn.metrics import precision_recall_curve\n",
    "\n",
    "from xgboost import XGBClassifier\n",
    "from sklearn.linear_model import LogisticRegression\n",
    "from sklearn.tree import DecisionTreeClassifier\n",
    "from sklearn.ensemble import RandomForestClassifier\n",
    "from sklearn.neighbors import KNeighborsClassifier\n",
    "from sklearn.svm import SVC"
   ]
  },
  {
   "cell_type": "code",
   "execution_count": 17,
   "id": "9748ceab",
   "metadata": {
    "execution": {
     "iopub.execute_input": "2024-05-25T04:58:15.336131Z",
     "iopub.status.busy": "2024-05-25T04:58:15.335285Z",
     "iopub.status.idle": "2024-05-25T04:58:15.343567Z",
     "shell.execute_reply": "2024-05-25T04:58:15.342583Z"
    },
    "papermill": {
     "duration": 0.024954,
     "end_time": "2024-05-25T04:58:15.346154",
     "exception": false,
     "start_time": "2024-05-25T04:58:15.321200",
     "status": "completed"
    },
    "tags": []
   },
   "outputs": [],
   "source": [
    "x_train, x_test, y_train, y_test = train_test_split(f1, t1, test_size=0.3, random_state=101)"
   ]
  },
  {
   "cell_type": "code",
   "execution_count": 18,
   "id": "6a8c69c5",
   "metadata": {
    "execution": {
     "iopub.execute_input": "2024-05-25T04:58:15.371698Z",
     "iopub.status.busy": "2024-05-25T04:58:15.370887Z",
     "iopub.status.idle": "2024-05-25T04:58:15.386168Z",
     "shell.execute_reply": "2024-05-25T04:58:15.384769Z"
    },
    "papermill": {
     "duration": 0.031481,
     "end_time": "2024-05-25T04:58:15.389158",
     "exception": false,
     "start_time": "2024-05-25T04:58:15.357677",
     "status": "completed"
    },
    "tags": []
   },
   "outputs": [],
   "source": [
    "\n",
    "\n",
    "def model(classifier,x_train,y_train,x_test,y_test):\n",
    "\n",
    "    classifier.fit(x_train,y_train)\n",
    "    prediction = classifier.predict(x_test)\n",
    "    cv = RepeatedStratifiedKFold(n_splits = 10,n_repeats = 3,random_state = 1)\n",
    "    print(\"Cross Validation Score : \",'{0:.2%}'.format(cross_val_score(classifier,x_train,y_train,cv = cv,scoring = 'roc_auc').mean()))\n",
    "    print(\"ROC_AUC Score : \",'{0:.2%}'.format(roc_auc_score(y_test,prediction)))\n",
    "\n",
    "\n",
    "\n",
    "\n",
    "def model_evaluation(classifier,x_test,y_test):\n",
    "\n",
    "    \n",
    "    cm = confusion_matrix(y_test,classifier.predict(x_test))\n",
    "    names = ['True Neg','False Pos','False Neg','True Pos']\n",
    "    counts = [value for value in cm.flatten()]\n",
    "    percentages = ['{0:.2%}'.format(value) for value in cm.flatten()/np.sum(cm)]\n",
    "    labels = [f'{v1}\\n{v2}\\n{v3}' for v1, v2, v3 in zip(names,counts,percentages)]\n",
    "    labels = np.asarray(labels).reshape(2,2)\n",
    "    sns.heatmap(cm,annot = labels,cmap = colors,fmt ='')\n",
    "\n",
    "    \n",
    "    print(classification_report(y_test,classifier.predict(x_test)))\n",
    "\n",
    "\n",
    "\n",
    "\n",
    "\n",
    "\n",
    "def plot_roc_curve(y_true, y_scores):\n",
    "    \n",
    "    fpr, tpr, _ = roc_curve(y_true, y_scores)\n",
    "\n",
    "    \n",
    "    auc = roc_auc_score(y_true, y_scores)\n",
    "\n",
    "    \n",
    "    plt.figure()\n",
    "    plt.plot(fpr, tpr, label='ROC curve (AUC = {:.2f})'.format(auc))\n",
    "    plt.plot([0, 1], [0, 1], 'k--')  \n",
    "    plt.xlim([0.0, 1.0])\n",
    "    plt.ylim([0.0, 1.05])\n",
    "    plt.xlabel('False Positive Rate (FPR)')\n",
    "    plt.ylabel('True Positive Rate (TPR)')\n",
    "    plt.title('Receiver Operating Characteristic (ROC) Curve')\n",
    "    plt.legend(loc='lower right')\n",
    "    plt.show()"
   ]
  },
  {
   "cell_type": "markdown",
   "id": "7360e41f",
   "metadata": {
    "papermill": {
     "duration": 0.010678,
     "end_time": "2024-05-25T04:58:15.410901",
     "exception": false,
     "start_time": "2024-05-25T04:58:15.400223",
     "status": "completed"
    },
    "tags": []
   },
   "source": [
    "**Logistic Regression classifier**"
   ]
  },
  {
   "cell_type": "code",
   "execution_count": 19,
   "id": "7a43294b",
   "metadata": {
    "execution": {
     "iopub.execute_input": "2024-05-25T04:58:15.435398Z",
     "iopub.status.busy": "2024-05-25T04:58:15.434900Z",
     "iopub.status.idle": "2024-05-25T04:58:15.440898Z",
     "shell.execute_reply": "2024-05-25T04:58:15.439668Z"
    },
    "papermill": {
     "duration": 0.021535,
     "end_time": "2024-05-25T04:58:15.443500",
     "exception": false,
     "start_time": "2024-05-25T04:58:15.421965",
     "status": "completed"
    },
    "tags": []
   },
   "outputs": [],
   "source": [
    "classifier_lr = LogisticRegression(random_state = 0,C=10,penalty= 'l2')"
   ]
  },
  {
   "cell_type": "code",
   "execution_count": 20,
   "id": "f6855992",
   "metadata": {
    "execution": {
     "iopub.execute_input": "2024-05-25T04:58:15.468412Z",
     "iopub.status.busy": "2024-05-25T04:58:15.467620Z",
     "iopub.status.idle": "2024-05-25T04:58:18.998358Z",
     "shell.execute_reply": "2024-05-25T04:58:18.996919Z"
    },
    "papermill": {
     "duration": 3.54634,
     "end_time": "2024-05-25T04:58:19.000984",
     "exception": false,
     "start_time": "2024-05-25T04:58:15.454644",
     "status": "completed"
    },
    "tags": []
   },
   "outputs": [
    {
     "name": "stdout",
     "output_type": "stream",
     "text": [
      "Cross Validation Score :  99.77%\n",
      "ROC_AUC Score :  98.14%\n",
      "              precision    recall  f1-score   support\n",
      "\n",
      "           0       0.97      0.99      0.98       504\n",
      "           1       0.99      0.97      0.98       476\n",
      "\n",
      "    accuracy                           0.98       980\n",
      "   macro avg       0.98      0.98      0.98       980\n",
      "weighted avg       0.98      0.98      0.98       980\n",
      "\n"
     ]
    },
    {
     "data": {
      "image/png": "[encoded data removed]",
      "text/plain": [
       "<Figure size 640x480 with 2 Axes>"
      ]
     },
     "metadata": {},
     "output_type": "display_data"
    }
   ],
   "source": [
    "model(classifier_lr,x_train,y_train,x_test,y_test)\n",
    "model_evaluation(classifier_lr,x_test,y_test)"
   ]
  },
  {
   "cell_type": "code",
   "execution_count": 21,
   "id": "3b1f6c14",
   "metadata": {
    "execution": {
     "iopub.execute_input": "2024-05-25T04:58:19.025488Z",
     "iopub.status.busy": "2024-05-25T04:58:19.025098Z",
     "iopub.status.idle": "2024-05-25T04:58:19.348070Z",
     "shell.execute_reply": "2024-05-25T04:58:19.339094Z"
    },
    "papermill": {
     "duration": 0.338694,
     "end_time": "2024-05-25T04:58:19.351209",
     "exception": false,
     "start_time": "2024-05-25T04:58:19.012515",
     "status": "completed"
    },
    "tags": []
   },
   "outputs": [
    {
     "data": {
      "image/png": "[encoded data removed]",
      "text/plain": [
       "<Figure size 640x480 with 1 Axes>"
      ]
     },
     "metadata": {},
     "output_type": "display_data"
    }
   ],
   "source": [
    "prediction_lr = classifier_lr.predict(x_test)\n",
    "plot_roc_curve(y_test, prediction_lr)"
   ]
  },
  {
   "cell_type": "markdown",
   "id": "e2e798c3",
   "metadata": {
    "papermill": {
     "duration": 0.01139,
     "end_time": "2024-05-25T04:58:19.375427",
     "exception": false,
     "start_time": "2024-05-25T04:58:19.364037",
     "status": "completed"
    },
    "tags": []
   },
   "source": [
    "**Support Vector Classifier (SVC)**"
   ]
  },
  {
   "cell_type": "code",
   "execution_count": 22,
   "id": "dadb0d32",
   "metadata": {
    "execution": {
     "iopub.execute_input": "2024-05-25T04:58:19.402345Z",
     "iopub.status.busy": "2024-05-25T04:58:19.401381Z",
     "iopub.status.idle": "2024-05-25T04:58:19.407117Z",
     "shell.execute_reply": "2024-05-25T04:58:19.406019Z"
    },
    "papermill": {
     "duration": 0.021745,
     "end_time": "2024-05-25T04:58:19.409509",
     "exception": false,
     "start_time": "2024-05-25T04:58:19.387764",
     "status": "completed"
    },
    "tags": []
   },
   "outputs": [],
   "source": [
    "classifier_svc = SVC(kernel = 'linear',C = 0.1)"
   ]
  },
  {
   "cell_type": "code",
   "execution_count": 23,
   "id": "8fd45e0e",
   "metadata": {
    "execution": {
     "iopub.execute_input": "2024-05-25T04:58:19.436053Z",
     "iopub.status.busy": "2024-05-25T04:58:19.435145Z",
     "iopub.status.idle": "2024-05-25T04:58:36.014207Z",
     "shell.execute_reply": "2024-05-25T04:58:36.012892Z"
    },
    "papermill": {
     "duration": 16.595314,
     "end_time": "2024-05-25T04:58:36.016891",
     "exception": false,
     "start_time": "2024-05-25T04:58:19.421577",
     "status": "completed"
    },
    "tags": []
   },
   "outputs": [
    {
     "name": "stdout",
     "output_type": "stream",
     "text": [
      "Cross Validation Score :  99.41%\n",
      "ROC_AUC Score :  93.71%\n",
      "              precision    recall  f1-score   support\n",
      "\n",
      "           0       0.90      1.00      0.94       504\n",
      "           1       1.00      0.88      0.93       476\n",
      "\n",
      "    accuracy                           0.94       980\n",
      "   macro avg       0.95      0.94      0.94       980\n",
      "weighted avg       0.94      0.94      0.94       980\n",
      "\n"
     ]
    },
    {
     "data": {
      "image/png": "[encoded data removed]",
      "text/plain": [
       "<Figure size 640x480 with 2 Axes>"
      ]
     },
     "metadata": {},
     "output_type": "display_data"
    }
   ],
   "source": [
    "model(classifier_svc,x_train,y_train,x_test,y_test)\n",
    "model_evaluation(classifier_svc,x_test,y_test)"
   ]
  },
  {
   "cell_type": "code",
   "execution_count": 24,
   "id": "60ca0489",
   "metadata": {
    "execution": {
     "iopub.execute_input": "2024-05-25T04:58:36.044482Z",
     "iopub.status.busy": "2024-05-25T04:58:36.043379Z",
     "iopub.status.idle": "2024-05-25T04:58:36.499205Z",
     "shell.execute_reply": "2024-05-25T04:58:36.497731Z"
    },
    "papermill": {
     "duration": 0.473033,
     "end_time": "2024-05-25T04:58:36.502335",
     "exception": false,
     "start_time": "2024-05-25T04:58:36.029302",
     "status": "completed"
    },
    "tags": []
   },
   "outputs": [
    {
     "data": {
      "image/png": "[encoded data removed]",
      "text/plain": [
       "<Figure size 640x480 with 1 Axes>"
      ]
     },
     "metadata": {},
     "output_type": "display_data"
    }
   ],
   "source": [
    "prediction_svc = classifier_svc.predict(x_test)\n",
    "plot_roc_curve(y_test, prediction_svc)"
   ]
  }
 ],
 "metadata": {
  "kaggle": {
   "accelerator": "none",
   "dataSources": [
    {
     "datasetId": 483,
     "sourceId": 982,
     "sourceType": "datasetVersion"
    }
   ],
   "dockerImageVersionId": 30698,
   "isGpuEnabled": false,
   "isInternetEnabled": false,
   "language": "python",
   "sourceType": "notebook"
  },
  "kernelspec": {
   "display_name": "Python 3",
   "language": "python",
   "name": "python3"
  },
  "language_info": {
   "codemirror_mode": {
    "name": "ipython",
    "version": 3
   },
   "file_extension": ".py",
   "mimetype": "text/x-python",
   "name": "python",
   "nbconvert_exporter": "python",
   "pygments_lexer": "ipython3",
   "version": "3.10.13"
  },
  "papermill": {
   "default_parameters": {},
   "duration": 30.852528,
   "end_time": "2024-05-25T04:58:37.440408",
   "environment_variables": {},
   "exception": null,
   "input_path": "__notebook__.ipynb",
   "output_path": "__notebook__.ipynb",
   "parameters": {},
   "start_time": "2024-05-25T04:58:06.587880",
   "version": "2.5.0"
  }
 },
 "nbformat": 4,
 "nbformat_minor": 5
}
