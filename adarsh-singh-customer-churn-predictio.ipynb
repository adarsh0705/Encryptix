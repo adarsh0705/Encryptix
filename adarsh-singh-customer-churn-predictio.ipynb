{
 "cells": [
  {
   "cell_type": "markdown",
   "id": "700b591c",
   "metadata": {
    "papermill": {
     "duration": 0.010937,
     "end_time": "2024-05-26T04:46:46.565878",
     "exception": false,
     "start_time": "2024-05-26T04:46:46.554941",
     "status": "completed"
    },
    "tags": []
   },
   "source": [
    "**first we will have to install tensorflow-gpu==2.1.0.**"
   ]
  },
  {
   "cell_type": "code",
   "execution_count": 1,
   "id": "d3044094",
   "metadata": {
    "execution": {
     "iopub.execute_input": "2024-05-26T04:46:46.589567Z",
     "iopub.status.busy": "2024-05-26T04:46:46.588018Z",
     "iopub.status.idle": "2024-05-26T04:47:02.734834Z",
     "shell.execute_reply": "2024-05-26T04:47:02.733612Z"
    },
    "papermill": {
     "duration": 16.16178,
     "end_time": "2024-05-26T04:47:02.737975",
     "exception": false,
     "start_time": "2024-05-26T04:46:46.576195",
     "status": "completed"
    },
    "tags": []
   },
   "outputs": [
    {
     "name": "stderr",
     "output_type": "stream",
     "text": [
      "2024-05-26 04:46:48.907533: E external/local_xla/xla/stream_executor/cuda/cuda_dnn.cc:9261] Unable to register cuDNN factory: Attempting to register factory for plugin cuDNN when one has already been registered\n",
      "2024-05-26 04:46:48.907678: E external/local_xla/xla/stream_executor/cuda/cuda_fft.cc:607] Unable to register cuFFT factory: Attempting to register factory for plugin cuFFT when one has already been registered\n",
      "2024-05-26 04:46:49.055491: E external/local_xla/xla/stream_executor/cuda/cuda_blas.cc:1515] Unable to register cuBLAS factory: Attempting to register factory for plugin cuBLAS when one has already been registered\n"
     ]
    },
    {
     "data": {
      "text/plain": [
       "'2.15.0'"
      ]
     },
     "execution_count": 1,
     "metadata": {},
     "output_type": "execute_result"
    }
   ],
   "source": [
    "import tensorflow as tf\n",
    "tf.__version__"
   ]
  },
  {
   "cell_type": "code",
   "execution_count": 2,
   "id": "2ee60d3f",
   "metadata": {
    "execution": {
     "iopub.execute_input": "2024-05-26T04:47:02.761819Z",
     "iopub.status.busy": "2024-05-26T04:47:02.759712Z",
     "iopub.status.idle": "2024-05-26T04:47:02.766547Z",
     "shell.execute_reply": "2024-05-26T04:47:02.765430Z"
    },
    "papermill": {
     "duration": 0.020657,
     "end_time": "2024-05-26T04:47:02.768936",
     "exception": false,
     "start_time": "2024-05-26T04:47:02.748279",
     "status": "completed"
    },
    "tags": []
   },
   "outputs": [],
   "source": [
    "import numpy as np\n",
    "import pandas as pd\n",
    "import matplotlib.pyplot as plt"
   ]
  },
  {
   "cell_type": "code",
   "execution_count": 3,
   "id": "1426df38",
   "metadata": {
    "execution": {
     "iopub.execute_input": "2024-05-26T04:47:02.791907Z",
     "iopub.status.busy": "2024-05-26T04:47:02.791076Z",
     "iopub.status.idle": "2024-05-26T04:47:02.873378Z",
     "shell.execute_reply": "2024-05-26T04:47:02.872021Z"
    },
    "papermill": {
     "duration": 0.097387,
     "end_time": "2024-05-26T04:47:02.876380",
     "exception": false,
     "start_time": "2024-05-26T04:47:02.778993",
     "status": "completed"
    },
    "tags": []
   },
   "outputs": [
    {
     "data": {
      "text/html": [
       "<div>\n",
       "<style scoped>\n",
       "    .dataframe tbody tr th:only-of-type {\n",
       "        vertical-align: middle;\n",
       "    }\n",
       "\n",
       "    .dataframe tbody tr th {\n",
       "        vertical-align: top;\n",
       "    }\n",
       "\n",
       "    .dataframe thead th {\n",
       "        text-align: right;\n",
       "    }\n",
       "</style>\n",
       "<table border=\"1\" class=\"dataframe\">\n",
       "  <thead>\n",
       "    <tr style=\"text-align: right;\">\n",
       "      <th></th>\n",
       "      <th>RowNumber</th>\n",
       "      <th>CustomerId</th>\n",
       "      <th>Surname</th>\n",
       "      <th>CreditScore</th>\n",
       "      <th>Geography</th>\n",
       "      <th>Gender</th>\n",
       "      <th>Age</th>\n",
       "      <th>Tenure</th>\n",
       "      <th>Balance</th>\n",
       "      <th>NumOfProducts</th>\n",
       "      <th>HasCrCard</th>\n",
       "      <th>IsActiveMember</th>\n",
       "      <th>EstimatedSalary</th>\n",
       "      <th>Exited</th>\n",
       "    </tr>\n",
       "  </thead>\n",
       "  <tbody>\n",
       "    <tr>\n",
       "      <th>0</th>\n",
       "      <td>1</td>\n",
       "      <td>15634602</td>\n",
       "      <td>Hargrave</td>\n",
       "      <td>619</td>\n",
       "      <td>France</td>\n",
       "      <td>Female</td>\n",
       "      <td>42</td>\n",
       "      <td>2</td>\n",
       "      <td>0.00</td>\n",
       "      <td>1</td>\n",
       "      <td>1</td>\n",
       "      <td>1</td>\n",
       "      <td>101348.88</td>\n",
       "      <td>1</td>\n",
       "    </tr>\n",
       "    <tr>\n",
       "      <th>1</th>\n",
       "      <td>2</td>\n",
       "      <td>15647311</td>\n",
       "      <td>Hill</td>\n",
       "      <td>608</td>\n",
       "      <td>Spain</td>\n",
       "      <td>Female</td>\n",
       "      <td>41</td>\n",
       "      <td>1</td>\n",
       "      <td>83807.86</td>\n",
       "      <td>1</td>\n",
       "      <td>0</td>\n",
       "      <td>1</td>\n",
       "      <td>112542.58</td>\n",
       "      <td>0</td>\n",
       "    </tr>\n",
       "    <tr>\n",
       "      <th>2</th>\n",
       "      <td>3</td>\n",
       "      <td>15619304</td>\n",
       "      <td>Onio</td>\n",
       "      <td>502</td>\n",
       "      <td>France</td>\n",
       "      <td>Female</td>\n",
       "      <td>42</td>\n",
       "      <td>8</td>\n",
       "      <td>159660.80</td>\n",
       "      <td>3</td>\n",
       "      <td>1</td>\n",
       "      <td>0</td>\n",
       "      <td>113931.57</td>\n",
       "      <td>1</td>\n",
       "    </tr>\n",
       "    <tr>\n",
       "      <th>3</th>\n",
       "      <td>4</td>\n",
       "      <td>15701354</td>\n",
       "      <td>Boni</td>\n",
       "      <td>699</td>\n",
       "      <td>France</td>\n",
       "      <td>Female</td>\n",
       "      <td>39</td>\n",
       "      <td>1</td>\n",
       "      <td>0.00</td>\n",
       "      <td>2</td>\n",
       "      <td>0</td>\n",
       "      <td>0</td>\n",
       "      <td>93826.63</td>\n",
       "      <td>0</td>\n",
       "    </tr>\n",
       "    <tr>\n",
       "      <th>4</th>\n",
       "      <td>5</td>\n",
       "      <td>15737888</td>\n",
       "      <td>Mitchell</td>\n",
       "      <td>850</td>\n",
       "      <td>Spain</td>\n",
       "      <td>Female</td>\n",
       "      <td>43</td>\n",
       "      <td>2</td>\n",
       "      <td>125510.82</td>\n",
       "      <td>1</td>\n",
       "      <td>1</td>\n",
       "      <td>1</td>\n",
       "      <td>79084.10</td>\n",
       "      <td>0</td>\n",
       "    </tr>\n",
       "  </tbody>\n",
       "</table>\n",
       "</div>"
      ],
      "text/plain": [
       "   RowNumber  CustomerId   Surname  CreditScore Geography  Gender  Age  \\\n",
       "0          1    15634602  Hargrave          619    France  Female   42   \n",
       "1          2    15647311      Hill          608     Spain  Female   41   \n",
       "2          3    15619304      Onio          502    France  Female   42   \n",
       "3          4    15701354      Boni          699    France  Female   39   \n",
       "4          5    15737888  Mitchell          850     Spain  Female   43   \n",
       "\n",
       "   Tenure    Balance  NumOfProducts  HasCrCard  IsActiveMember  \\\n",
       "0       2       0.00              1          1               1   \n",
       "1       1   83807.86              1          0               1   \n",
       "2       8  159660.80              3          1               0   \n",
       "3       1       0.00              2          0               0   \n",
       "4       2  125510.82              1          1               1   \n",
       "\n",
       "   EstimatedSalary  Exited  \n",
       "0        101348.88       1  \n",
       "1        112542.58       0  \n",
       "2        113931.57       1  \n",
       "3         93826.63       0  \n",
       "4         79084.10       0  "
      ]
     },
     "execution_count": 3,
     "metadata": {},
     "output_type": "execute_result"
    }
   ],
   "source": [
    "df=pd.read_csv('/kaggle/input/bank-customer-churn-prediction/Churn_Modelling.csv')\n",
    "df.head()"
   ]
  },
  {
   "cell_type": "code",
   "execution_count": 4,
   "id": "671055ae",
   "metadata": {
    "execution": {
     "iopub.execute_input": "2024-05-26T04:47:02.899785Z",
     "iopub.status.busy": "2024-05-26T04:47:02.899379Z",
     "iopub.status.idle": "2024-05-26T04:47:02.922324Z",
     "shell.execute_reply": "2024-05-26T04:47:02.921041Z"
    },
    "papermill": {
     "duration": 0.038385,
     "end_time": "2024-05-26T04:47:02.925339",
     "exception": false,
     "start_time": "2024-05-26T04:47:02.886954",
     "status": "completed"
    },
    "tags": []
   },
   "outputs": [
    {
     "data": {
      "text/html": [
       "<div>\n",
       "<style scoped>\n",
       "    .dataframe tbody tr th:only-of-type {\n",
       "        vertical-align: middle;\n",
       "    }\n",
       "\n",
       "    .dataframe tbody tr th {\n",
       "        vertical-align: top;\n",
       "    }\n",
       "\n",
       "    .dataframe thead th {\n",
       "        text-align: right;\n",
       "    }\n",
       "</style>\n",
       "<table border=\"1\" class=\"dataframe\">\n",
       "  <thead>\n",
       "    <tr style=\"text-align: right;\">\n",
       "      <th></th>\n",
       "      <th>CreditScore</th>\n",
       "      <th>Geography</th>\n",
       "      <th>Gender</th>\n",
       "      <th>Age</th>\n",
       "      <th>Tenure</th>\n",
       "      <th>Balance</th>\n",
       "      <th>NumOfProducts</th>\n",
       "      <th>HasCrCard</th>\n",
       "      <th>IsActiveMember</th>\n",
       "      <th>EstimatedSalary</th>\n",
       "    </tr>\n",
       "  </thead>\n",
       "  <tbody>\n",
       "    <tr>\n",
       "      <th>0</th>\n",
       "      <td>619</td>\n",
       "      <td>France</td>\n",
       "      <td>Female</td>\n",
       "      <td>42</td>\n",
       "      <td>2</td>\n",
       "      <td>0.00</td>\n",
       "      <td>1</td>\n",
       "      <td>1</td>\n",
       "      <td>1</td>\n",
       "      <td>101348.88</td>\n",
       "    </tr>\n",
       "    <tr>\n",
       "      <th>1</th>\n",
       "      <td>608</td>\n",
       "      <td>Spain</td>\n",
       "      <td>Female</td>\n",
       "      <td>41</td>\n",
       "      <td>1</td>\n",
       "      <td>83807.86</td>\n",
       "      <td>1</td>\n",
       "      <td>0</td>\n",
       "      <td>1</td>\n",
       "      <td>112542.58</td>\n",
       "    </tr>\n",
       "    <tr>\n",
       "      <th>2</th>\n",
       "      <td>502</td>\n",
       "      <td>France</td>\n",
       "      <td>Female</td>\n",
       "      <td>42</td>\n",
       "      <td>8</td>\n",
       "      <td>159660.80</td>\n",
       "      <td>3</td>\n",
       "      <td>1</td>\n",
       "      <td>0</td>\n",
       "      <td>113931.57</td>\n",
       "    </tr>\n",
       "    <tr>\n",
       "      <th>3</th>\n",
       "      <td>699</td>\n",
       "      <td>France</td>\n",
       "      <td>Female</td>\n",
       "      <td>39</td>\n",
       "      <td>1</td>\n",
       "      <td>0.00</td>\n",
       "      <td>2</td>\n",
       "      <td>0</td>\n",
       "      <td>0</td>\n",
       "      <td>93826.63</td>\n",
       "    </tr>\n",
       "    <tr>\n",
       "      <th>4</th>\n",
       "      <td>850</td>\n",
       "      <td>Spain</td>\n",
       "      <td>Female</td>\n",
       "      <td>43</td>\n",
       "      <td>2</td>\n",
       "      <td>125510.82</td>\n",
       "      <td>1</td>\n",
       "      <td>1</td>\n",
       "      <td>1</td>\n",
       "      <td>79084.10</td>\n",
       "    </tr>\n",
       "  </tbody>\n",
       "</table>\n",
       "</div>"
      ],
      "text/plain": [
       "   CreditScore Geography  Gender  Age  Tenure    Balance  NumOfProducts  \\\n",
       "0          619    France  Female   42       2       0.00              1   \n",
       "1          608     Spain  Female   41       1   83807.86              1   \n",
       "2          502    France  Female   42       8  159660.80              3   \n",
       "3          699    France  Female   39       1       0.00              2   \n",
       "4          850     Spain  Female   43       2  125510.82              1   \n",
       "\n",
       "   HasCrCard  IsActiveMember  EstimatedSalary  \n",
       "0          1               1        101348.88  \n",
       "1          0               1        112542.58  \n",
       "2          1               0        113931.57  \n",
       "3          0               0         93826.63  \n",
       "4          1               1         79084.10  "
      ]
     },
     "execution_count": 4,
     "metadata": {},
     "output_type": "execute_result"
    }
   ],
   "source": [
    "X=df.iloc[:,3:13]\n",
    "X.head()"
   ]
  },
  {
   "cell_type": "code",
   "execution_count": 5,
   "id": "a5a2138a",
   "metadata": {
    "execution": {
     "iopub.execute_input": "2024-05-26T04:47:02.951468Z",
     "iopub.status.busy": "2024-05-26T04:47:02.951024Z",
     "iopub.status.idle": "2024-05-26T04:47:02.956973Z",
     "shell.execute_reply": "2024-05-26T04:47:02.955476Z"
    },
    "papermill": {
     "duration": 0.022242,
     "end_time": "2024-05-26T04:47:02.959799",
     "exception": false,
     "start_time": "2024-05-26T04:47:02.937557",
     "status": "completed"
    },
    "tags": []
   },
   "outputs": [],
   "source": [
    "y=df.iloc[:,13]\n"
   ]
  },
  {
   "cell_type": "code",
   "execution_count": 6,
   "id": "03a02002",
   "metadata": {
    "execution": {
     "iopub.execute_input": "2024-05-26T04:47:02.989366Z",
     "iopub.status.busy": "2024-05-26T04:47:02.988883Z",
     "iopub.status.idle": "2024-05-26T04:47:03.005137Z",
     "shell.execute_reply": "2024-05-26T04:47:03.003859Z"
    },
    "papermill": {
     "duration": 0.034795,
     "end_time": "2024-05-26T04:47:03.008479",
     "exception": false,
     "start_time": "2024-05-26T04:47:02.973684",
     "status": "completed"
    },
    "tags": []
   },
   "outputs": [],
   "source": [
    "dummies=pd.get_dummies(X['Geography'],drop_first=True)\n",
    "X=pd.concat([X,dummies],axis=1)\n",
    "X.drop('Geography',axis=1,inplace=True)"
   ]
  },
  {
   "cell_type": "code",
   "execution_count": 7,
   "id": "f46845bf",
   "metadata": {
    "execution": {
     "iopub.execute_input": "2024-05-26T04:47:03.035159Z",
     "iopub.status.busy": "2024-05-26T04:47:03.034025Z",
     "iopub.status.idle": "2024-05-26T04:47:03.045618Z",
     "shell.execute_reply": "2024-05-26T04:47:03.044362Z"
    },
    "papermill": {
     "duration": 0.028879,
     "end_time": "2024-05-26T04:47:03.048798",
     "exception": false,
     "start_time": "2024-05-26T04:47:03.019919",
     "status": "completed"
    },
    "tags": []
   },
   "outputs": [],
   "source": [
    "dummies=pd.get_dummies(X['Gender'],drop_first=True)\n",
    "X=pd.concat([X,dummies],axis=1)\n",
    "X.drop('Gender',axis=1,inplace=True)"
   ]
  },
  {
   "cell_type": "code",
   "execution_count": 8,
   "id": "e1392f40",
   "metadata": {
    "execution": {
     "iopub.execute_input": "2024-05-26T04:47:03.074509Z",
     "iopub.status.busy": "2024-05-26T04:47:03.074034Z",
     "iopub.status.idle": "2024-05-26T04:47:03.091909Z",
     "shell.execute_reply": "2024-05-26T04:47:03.090516Z"
    },
    "papermill": {
     "duration": 0.034211,
     "end_time": "2024-05-26T04:47:03.094578",
     "exception": false,
     "start_time": "2024-05-26T04:47:03.060367",
     "status": "completed"
    },
    "tags": []
   },
   "outputs": [
    {
     "data": {
      "text/html": [
       "<div>\n",
       "<style scoped>\n",
       "    .dataframe tbody tr th:only-of-type {\n",
       "        vertical-align: middle;\n",
       "    }\n",
       "\n",
       "    .dataframe tbody tr th {\n",
       "        vertical-align: top;\n",
       "    }\n",
       "\n",
       "    .dataframe thead th {\n",
       "        text-align: right;\n",
       "    }\n",
       "</style>\n",
       "<table border=\"1\" class=\"dataframe\">\n",
       "  <thead>\n",
       "    <tr style=\"text-align: right;\">\n",
       "      <th></th>\n",
       "      <th>CreditScore</th>\n",
       "      <th>Age</th>\n",
       "      <th>Tenure</th>\n",
       "      <th>Balance</th>\n",
       "      <th>NumOfProducts</th>\n",
       "      <th>HasCrCard</th>\n",
       "      <th>IsActiveMember</th>\n",
       "      <th>EstimatedSalary</th>\n",
       "      <th>Germany</th>\n",
       "      <th>Spain</th>\n",
       "      <th>Male</th>\n",
       "    </tr>\n",
       "  </thead>\n",
       "  <tbody>\n",
       "    <tr>\n",
       "      <th>0</th>\n",
       "      <td>619</td>\n",
       "      <td>42</td>\n",
       "      <td>2</td>\n",
       "      <td>0.00</td>\n",
       "      <td>1</td>\n",
       "      <td>1</td>\n",
       "      <td>1</td>\n",
       "      <td>101348.88</td>\n",
       "      <td>False</td>\n",
       "      <td>False</td>\n",
       "      <td>False</td>\n",
       "    </tr>\n",
       "    <tr>\n",
       "      <th>1</th>\n",
       "      <td>608</td>\n",
       "      <td>41</td>\n",
       "      <td>1</td>\n",
       "      <td>83807.86</td>\n",
       "      <td>1</td>\n",
       "      <td>0</td>\n",
       "      <td>1</td>\n",
       "      <td>112542.58</td>\n",
       "      <td>False</td>\n",
       "      <td>True</td>\n",
       "      <td>False</td>\n",
       "    </tr>\n",
       "    <tr>\n",
       "      <th>2</th>\n",
       "      <td>502</td>\n",
       "      <td>42</td>\n",
       "      <td>8</td>\n",
       "      <td>159660.80</td>\n",
       "      <td>3</td>\n",
       "      <td>1</td>\n",
       "      <td>0</td>\n",
       "      <td>113931.57</td>\n",
       "      <td>False</td>\n",
       "      <td>False</td>\n",
       "      <td>False</td>\n",
       "    </tr>\n",
       "    <tr>\n",
       "      <th>3</th>\n",
       "      <td>699</td>\n",
       "      <td>39</td>\n",
       "      <td>1</td>\n",
       "      <td>0.00</td>\n",
       "      <td>2</td>\n",
       "      <td>0</td>\n",
       "      <td>0</td>\n",
       "      <td>93826.63</td>\n",
       "      <td>False</td>\n",
       "      <td>False</td>\n",
       "      <td>False</td>\n",
       "    </tr>\n",
       "    <tr>\n",
       "      <th>4</th>\n",
       "      <td>850</td>\n",
       "      <td>43</td>\n",
       "      <td>2</td>\n",
       "      <td>125510.82</td>\n",
       "      <td>1</td>\n",
       "      <td>1</td>\n",
       "      <td>1</td>\n",
       "      <td>79084.10</td>\n",
       "      <td>False</td>\n",
       "      <td>True</td>\n",
       "      <td>False</td>\n",
       "    </tr>\n",
       "  </tbody>\n",
       "</table>\n",
       "</div>"
      ],
      "text/plain": [
       "   CreditScore  Age  Tenure    Balance  NumOfProducts  HasCrCard  \\\n",
       "0          619   42       2       0.00              1          1   \n",
       "1          608   41       1   83807.86              1          0   \n",
       "2          502   42       8  159660.80              3          1   \n",
       "3          699   39       1       0.00              2          0   \n",
       "4          850   43       2  125510.82              1          1   \n",
       "\n",
       "   IsActiveMember  EstimatedSalary  Germany  Spain   Male  \n",
       "0               1        101348.88    False  False  False  \n",
       "1               1        112542.58    False   True  False  \n",
       "2               0        113931.57    False  False  False  \n",
       "3               0         93826.63    False  False  False  \n",
       "4               1         79084.10    False   True  False  "
      ]
     },
     "execution_count": 8,
     "metadata": {},
     "output_type": "execute_result"
    }
   ],
   "source": [
    "X.head()"
   ]
  },
  {
   "cell_type": "code",
   "execution_count": 9,
   "id": "fac552a7",
   "metadata": {
    "execution": {
     "iopub.execute_input": "2024-05-26T04:47:03.122228Z",
     "iopub.status.busy": "2024-05-26T04:47:03.121600Z",
     "iopub.status.idle": "2024-05-26T04:47:04.158796Z",
     "shell.execute_reply": "2024-05-26T04:47:04.157775Z"
    },
    "papermill": {
     "duration": 1.054774,
     "end_time": "2024-05-26T04:47:04.161850",
     "exception": false,
     "start_time": "2024-05-26T04:47:03.107076",
     "status": "completed"
    },
    "tags": []
   },
   "outputs": [],
   "source": [
    "from sklearn.model_selection import train_test_split\n",
    "X_train,X_test,y_train,y_test=train_test_split(X,y,test_size=.2)"
   ]
  },
  {
   "cell_type": "code",
   "execution_count": 10,
   "id": "13722018",
   "metadata": {
    "execution": {
     "iopub.execute_input": "2024-05-26T04:47:04.191257Z",
     "iopub.status.busy": "2024-05-26T04:47:04.190361Z",
     "iopub.status.idle": "2024-05-26T04:47:04.195844Z",
     "shell.execute_reply": "2024-05-26T04:47:04.195003Z"
    },
    "papermill": {
     "duration": 0.023279,
     "end_time": "2024-05-26T04:47:04.198534",
     "exception": false,
     "start_time": "2024-05-26T04:47:04.175255",
     "status": "completed"
    },
    "tags": []
   },
   "outputs": [],
   "source": [
    "from sklearn.preprocessing import StandardScaler\n",
    "scaler=StandardScaler()"
   ]
  },
  {
   "cell_type": "code",
   "execution_count": 11,
   "id": "37e9cd75",
   "metadata": {
    "execution": {
     "iopub.execute_input": "2024-05-26T04:47:04.227005Z",
     "iopub.status.busy": "2024-05-26T04:47:04.226307Z",
     "iopub.status.idle": "2024-05-26T04:47:04.245941Z",
     "shell.execute_reply": "2024-05-26T04:47:04.244608Z"
    },
    "papermill": {
     "duration": 0.037039,
     "end_time": "2024-05-26T04:47:04.248951",
     "exception": false,
     "start_time": "2024-05-26T04:47:04.211912",
     "status": "completed"
    },
    "tags": []
   },
   "outputs": [],
   "source": [
    "X_train=scaler.fit_transform(X_train)\n",
    "X_test=scaler.transform(X_test)"
   ]
  },
  {
   "cell_type": "code",
   "execution_count": 12,
   "id": "307e08e6",
   "metadata": {
    "execution": {
     "iopub.execute_input": "2024-05-26T04:47:04.275363Z",
     "iopub.status.busy": "2024-05-26T04:47:04.274922Z",
     "iopub.status.idle": "2024-05-26T04:47:04.286063Z",
     "shell.execute_reply": "2024-05-26T04:47:04.284919Z"
    },
    "papermill": {
     "duration": 0.028332,
     "end_time": "2024-05-26T04:47:04.289420",
     "exception": false,
     "start_time": "2024-05-26T04:47:04.261088",
     "status": "completed"
    },
    "tags": []
   },
   "outputs": [],
   "source": [
    "from tensorflow.keras.models import Sequential\n",
    "from tensorflow.keras.layers import Dense\n",
    "from tensorflow.keras.layers import ReLU,PReLU,ELU,LeakyReLU\n",
    "from tensorflow.keras.layers import Dropout"
   ]
  },
  {
   "cell_type": "code",
   "execution_count": 13,
   "id": "a72e5c03",
   "metadata": {
    "execution": {
     "iopub.execute_input": "2024-05-26T04:47:04.317020Z",
     "iopub.status.busy": "2024-05-26T04:47:04.316596Z",
     "iopub.status.idle": "2024-05-26T04:47:04.323931Z",
     "shell.execute_reply": "2024-05-26T04:47:04.323023Z"
    },
    "papermill": {
     "duration": 0.024032,
     "end_time": "2024-05-26T04:47:04.326113",
     "exception": false,
     "start_time": "2024-05-26T04:47:04.302081",
     "status": "completed"
    },
    "tags": []
   },
   "outputs": [
    {
     "data": {
      "text/plain": [
       "(10000, 11)"
      ]
     },
     "execution_count": 13,
     "metadata": {},
     "output_type": "execute_result"
    }
   ],
   "source": [
    "X.shape"
   ]
  },
  {
   "cell_type": "markdown",
   "id": "b1d31896",
   "metadata": {
    "papermill": {
     "duration": 0.012563,
     "end_time": "2024-05-26T04:47:04.351135",
     "exception": false,
     "start_time": "2024-05-26T04:47:04.338572",
     "status": "completed"
    },
    "tags": []
   },
   "source": [
    "**Now lets create the model step by step**"
   ]
  },
  {
   "cell_type": "code",
   "execution_count": 14,
   "id": "8423753e",
   "metadata": {
    "execution": {
     "iopub.execute_input": "2024-05-26T04:47:04.380532Z",
     "iopub.status.busy": "2024-05-26T04:47:04.380099Z",
     "iopub.status.idle": "2024-05-26T04:47:04.389939Z",
     "shell.execute_reply": "2024-05-26T04:47:04.388484Z"
    },
    "papermill": {
     "duration": 0.027866,
     "end_time": "2024-05-26T04:47:04.392460",
     "exception": false,
     "start_time": "2024-05-26T04:47:04.364594",
     "status": "completed"
    },
    "tags": []
   },
   "outputs": [],
   "source": [
    "classifier=Sequential()"
   ]
  },
  {
   "cell_type": "code",
   "execution_count": 15,
   "id": "fd03b609",
   "metadata": {
    "execution": {
     "iopub.execute_input": "2024-05-26T04:47:04.421097Z",
     "iopub.status.busy": "2024-05-26T04:47:04.420097Z",
     "iopub.status.idle": "2024-05-26T04:47:04.428579Z",
     "shell.execute_reply": "2024-05-26T04:47:04.427644Z"
    },
    "papermill": {
     "duration": 0.026461,
     "end_time": "2024-05-26T04:47:04.431580",
     "exception": false,
     "start_time": "2024-05-26T04:47:04.405119",
     "status": "completed"
    },
    "tags": []
   },
   "outputs": [],
   "source": [
    "classifier.add(Dense(units=11,activation='relu'))"
   ]
  },
  {
   "cell_type": "code",
   "execution_count": 16,
   "id": "3b0762e5",
   "metadata": {
    "execution": {
     "iopub.execute_input": "2024-05-26T04:47:04.460292Z",
     "iopub.status.busy": "2024-05-26T04:47:04.459223Z",
     "iopub.status.idle": "2024-05-26T04:47:04.467435Z",
     "shell.execute_reply": "2024-05-26T04:47:04.465667Z"
    },
    "papermill": {
     "duration": 0.025719,
     "end_time": "2024-05-26T04:47:04.470510",
     "exception": false,
     "start_time": "2024-05-26T04:47:04.444791",
     "status": "completed"
    },
    "tags": []
   },
   "outputs": [],
   "source": [
    "classifier.add(Dense(units=7,activation='relu'))"
   ]
  },
  {
   "cell_type": "code",
   "execution_count": 17,
   "id": "4378fa90",
   "metadata": {
    "execution": {
     "iopub.execute_input": "2024-05-26T04:47:04.497782Z",
     "iopub.status.busy": "2024-05-26T04:47:04.496951Z",
     "iopub.status.idle": "2024-05-26T04:47:04.504668Z",
     "shell.execute_reply": "2024-05-26T04:47:04.503106Z"
    },
    "papermill": {
     "duration": 0.024634,
     "end_time": "2024-05-26T04:47:04.507272",
     "exception": false,
     "start_time": "2024-05-26T04:47:04.482638",
     "status": "completed"
    },
    "tags": []
   },
   "outputs": [],
   "source": [
    "classifier.add(Dense(units=6,activation='relu'))"
   ]
  },
  {
   "cell_type": "code",
   "execution_count": 18,
   "id": "361cc35a",
   "metadata": {
    "execution": {
     "iopub.execute_input": "2024-05-26T04:47:04.534183Z",
     "iopub.status.busy": "2024-05-26T04:47:04.533675Z",
     "iopub.status.idle": "2024-05-26T04:47:04.541528Z",
     "shell.execute_reply": "2024-05-26T04:47:04.540102Z"
    },
    "papermill": {
     "duration": 0.024506,
     "end_time": "2024-05-26T04:47:04.544056",
     "exception": false,
     "start_time": "2024-05-26T04:47:04.519550",
     "status": "completed"
    },
    "tags": []
   },
   "outputs": [],
   "source": [
    "classifier.add(Dense(units=1,activation='sigmoid'))"
   ]
  },
  {
   "cell_type": "code",
   "execution_count": 19,
   "id": "b6662901",
   "metadata": {
    "execution": {
     "iopub.execute_input": "2024-05-26T04:47:04.570942Z",
     "iopub.status.busy": "2024-05-26T04:47:04.570518Z",
     "iopub.status.idle": "2024-05-26T04:47:04.615104Z",
     "shell.execute_reply": "2024-05-26T04:47:04.614084Z"
    },
    "papermill": {
     "duration": 0.061299,
     "end_time": "2024-05-26T04:47:04.617744",
     "exception": false,
     "start_time": "2024-05-26T04:47:04.556445",
     "status": "completed"
    },
    "tags": []
   },
   "outputs": [],
   "source": [
    "import tensorflow\n",
    "opt=tensorflow.keras.optimizers.Adam(learning_rate=.01)"
   ]
  },
  {
   "cell_type": "code",
   "execution_count": 20,
   "id": "d595b053",
   "metadata": {
    "execution": {
     "iopub.execute_input": "2024-05-26T04:47:04.649757Z",
     "iopub.status.busy": "2024-05-26T04:47:04.648928Z",
     "iopub.status.idle": "2024-05-26T04:47:04.664109Z",
     "shell.execute_reply": "2024-05-26T04:47:04.663005Z"
    },
    "papermill": {
     "duration": 0.032209,
     "end_time": "2024-05-26T04:47:04.666642",
     "exception": false,
     "start_time": "2024-05-26T04:47:04.634433",
     "status": "completed"
    },
    "tags": []
   },
   "outputs": [],
   "source": [
    "classifier.compile(optimizer=opt,loss='binary_crossentropy',metrics=['accuracy'])"
   ]
  },
  {
   "cell_type": "code",
   "execution_count": 21,
   "id": "b125261f",
   "metadata": {
    "execution": {
     "iopub.execute_input": "2024-05-26T04:47:04.693667Z",
     "iopub.status.busy": "2024-05-26T04:47:04.692895Z",
     "iopub.status.idle": "2024-05-26T04:47:04.699052Z",
     "shell.execute_reply": "2024-05-26T04:47:04.697566Z"
    },
    "papermill": {
     "duration": 0.022509,
     "end_time": "2024-05-26T04:47:04.701467",
     "exception": false,
     "start_time": "2024-05-26T04:47:04.678958",
     "status": "completed"
    },
    "tags": []
   },
   "outputs": [],
   "source": [
    "import tensorflow\n",
    "early_stopping=tensorflow.keras.callbacks.EarlyStopping(\n",
    "    monitor='val_loss',\n",
    "    min_delta=.0001,\n",
    "    patience=20,\n",
    "    verbose=1,\n",
    "    mode='auto',\n",
    "    baseline=None,\n",
    "    restore_best_weights=False\n",
    "\n",
    ")"
   ]
  },
  {
   "cell_type": "code",
   "execution_count": 22,
   "id": "b6f329b6",
   "metadata": {
    "execution": {
     "iopub.execute_input": "2024-05-26T04:47:04.728742Z",
     "iopub.status.busy": "2024-05-26T04:47:04.728253Z",
     "iopub.status.idle": "2024-05-26T04:48:14.379577Z",
     "shell.execute_reply": "2024-05-26T04:48:14.378247Z"
    },
    "papermill": {
     "duration": 69.668857,
     "end_time": "2024-05-26T04:48:14.382675",
     "exception": false,
     "start_time": "2024-05-26T04:47:04.713818",
     "status": "completed"
    },
    "tags": []
   },
   "outputs": [
    {
     "name": "stdout",
     "output_type": "stream",
     "text": [
      "Epoch 1/1000\n",
      "\u001b[1m536/536\u001b[0m \u001b[32m━━━━━━━━━━━━━━━━━━━━\u001b[0m\u001b[37m\u001b[0m \u001b[1m4s\u001b[0m 3ms/step - accuracy: 0.7855 - loss: 0.4764 - val_accuracy: 0.8527 - val_loss: 0.3710\n",
      "Epoch 2/1000\n",
      "\u001b[1m536/536\u001b[0m \u001b[32m━━━━━━━━━━━━━━━━━━━━\u001b[0m\u001b[37m\u001b[0m \u001b[1m2s\u001b[0m 3ms/step - accuracy: 0.8353 - loss: 0.3879 - val_accuracy: 0.8546 - val_loss: 0.3667\n",
      "Epoch 3/1000\n",
      "\u001b[1m536/536\u001b[0m \u001b[32m━━━━━━━━━━━━━━━━━━━━\u001b[0m\u001b[37m\u001b[0m \u001b[1m2s\u001b[0m 3ms/step - accuracy: 0.8572 - loss: 0.3628 - val_accuracy: 0.8550 - val_loss: 0.3519\n",
      "Epoch 4/1000\n",
      "\u001b[1m536/536\u001b[0m \u001b[32m━━━━━━━━━━━━━━━━━━━━\u001b[0m\u001b[37m\u001b[0m \u001b[1m2s\u001b[0m 3ms/step - accuracy: 0.8550 - loss: 0.3608 - val_accuracy: 0.8569 - val_loss: 0.3518\n",
      "Epoch 5/1000\n",
      "\u001b[1m536/536\u001b[0m \u001b[32m━━━━━━━━━━━━━━━━━━━━\u001b[0m\u001b[37m\u001b[0m \u001b[1m3s\u001b[0m 3ms/step - accuracy: 0.8533 - loss: 0.3669 - val_accuracy: 0.8493 - val_loss: 0.3527\n",
      "Epoch 6/1000\n",
      "\u001b[1m536/536\u001b[0m \u001b[32m━━━━━━━━━━━━━━━━━━━━\u001b[0m\u001b[37m\u001b[0m \u001b[1m3s\u001b[0m 3ms/step - accuracy: 0.8534 - loss: 0.3554 - val_accuracy: 0.8607 - val_loss: 0.3393\n",
      "Epoch 7/1000\n",
      "\u001b[1m536/536\u001b[0m \u001b[32m━━━━━━━━━━━━━━━━━━━━\u001b[0m\u001b[37m\u001b[0m \u001b[1m2s\u001b[0m 3ms/step - accuracy: 0.8625 - loss: 0.3460 - val_accuracy: 0.8607 - val_loss: 0.3479\n",
      "Epoch 8/1000\n",
      "\u001b[1m536/536\u001b[0m \u001b[32m━━━━━━━━━━━━━━━━━━━━\u001b[0m\u001b[37m\u001b[0m \u001b[1m1s\u001b[0m 3ms/step - accuracy: 0.8646 - loss: 0.3505 - val_accuracy: 0.8535 - val_loss: 0.3558\n",
      "Epoch 9/1000\n",
      "\u001b[1m536/536\u001b[0m \u001b[32m━━━━━━━━━━━━━━━━━━━━\u001b[0m\u001b[37m\u001b[0m \u001b[1m3s\u001b[0m 4ms/step - accuracy: 0.8480 - loss: 0.3671 - val_accuracy: 0.8584 - val_loss: 0.3389\n",
      "Epoch 10/1000\n",
      "\u001b[1m536/536\u001b[0m \u001b[32m━━━━━━━━━━━━━━━━━━━━\u001b[0m\u001b[37m\u001b[0m \u001b[1m2s\u001b[0m 3ms/step - accuracy: 0.8619 - loss: 0.3336 - val_accuracy: 0.8554 - val_loss: 0.3412\n",
      "Epoch 11/1000\n",
      "\u001b[1m536/536\u001b[0m \u001b[32m━━━━━━━━━━━━━━━━━━━━\u001b[0m\u001b[37m\u001b[0m \u001b[1m1s\u001b[0m 3ms/step - accuracy: 0.8657 - loss: 0.3321 - val_accuracy: 0.8607 - val_loss: 0.3519\n",
      "Epoch 12/1000\n",
      "\u001b[1m536/536\u001b[0m \u001b[32m━━━━━━━━━━━━━━━━━━━━\u001b[0m\u001b[37m\u001b[0m \u001b[1m2s\u001b[0m 3ms/step - accuracy: 0.8509 - loss: 0.3585 - val_accuracy: 0.8569 - val_loss: 0.3525\n",
      "Epoch 13/1000\n",
      "\u001b[1m536/536\u001b[0m \u001b[32m━━━━━━━━━━━━━━━━━━━━\u001b[0m\u001b[37m\u001b[0m \u001b[1m1s\u001b[0m 3ms/step - accuracy: 0.8572 - loss: 0.3505 - val_accuracy: 0.8610 - val_loss: 0.3366\n",
      "Epoch 14/1000\n",
      "\u001b[1m536/536\u001b[0m \u001b[32m━━━━━━━━━━━━━━━━━━━━\u001b[0m\u001b[37m\u001b[0m \u001b[1m1s\u001b[0m 3ms/step - accuracy: 0.8645 - loss: 0.3414 - val_accuracy: 0.8584 - val_loss: 0.3380\n",
      "Epoch 15/1000\n",
      "\u001b[1m536/536\u001b[0m \u001b[32m━━━━━━━━━━━━━━━━━━━━\u001b[0m\u001b[37m\u001b[0m \u001b[1m2s\u001b[0m 3ms/step - accuracy: 0.8602 - loss: 0.3340 - val_accuracy: 0.8573 - val_loss: 0.3754\n",
      "Epoch 16/1000\n",
      "\u001b[1m536/536\u001b[0m \u001b[32m━━━━━━━━━━━━━━━━━━━━\u001b[0m\u001b[37m\u001b[0m \u001b[1m3s\u001b[0m 3ms/step - accuracy: 0.8673 - loss: 0.3406 - val_accuracy: 0.8565 - val_loss: 0.3470\n",
      "Epoch 17/1000\n",
      "\u001b[1m536/536\u001b[0m \u001b[32m━━━━━━━━━━━━━━━━━━━━\u001b[0m\u001b[37m\u001b[0m \u001b[1m2s\u001b[0m 3ms/step - accuracy: 0.8611 - loss: 0.3465 - val_accuracy: 0.8538 - val_loss: 0.3439\n",
      "Epoch 18/1000\n",
      "\u001b[1m536/536\u001b[0m \u001b[32m━━━━━━━━━━━━━━━━━━━━\u001b[0m\u001b[37m\u001b[0m \u001b[1m2s\u001b[0m 3ms/step - accuracy: 0.8739 - loss: 0.3158 - val_accuracy: 0.8508 - val_loss: 0.3522\n",
      "Epoch 19/1000\n",
      "\u001b[1m536/536\u001b[0m \u001b[32m━━━━━━━━━━━━━━━━━━━━\u001b[0m\u001b[37m\u001b[0m \u001b[1m1s\u001b[0m 3ms/step - accuracy: 0.8579 - loss: 0.3420 - val_accuracy: 0.8546 - val_loss: 0.3467\n",
      "Epoch 20/1000\n",
      "\u001b[1m536/536\u001b[0m \u001b[32m━━━━━━━━━━━━━━━━━━━━\u001b[0m\u001b[37m\u001b[0m \u001b[1m3s\u001b[0m 3ms/step - accuracy: 0.8678 - loss: 0.3391 - val_accuracy: 0.8576 - val_loss: 0.3441\n",
      "Epoch 21/1000\n",
      "\u001b[1m536/536\u001b[0m \u001b[32m━━━━━━━━━━━━━━━━━━━━\u001b[0m\u001b[37m\u001b[0m \u001b[1m1s\u001b[0m 3ms/step - accuracy: 0.8620 - loss: 0.3359 - val_accuracy: 0.8584 - val_loss: 0.3498\n",
      "Epoch 22/1000\n",
      "\u001b[1m536/536\u001b[0m \u001b[32m━━━━━━━━━━━━━━━━━━━━\u001b[0m\u001b[37m\u001b[0m \u001b[1m2s\u001b[0m 3ms/step - accuracy: 0.8616 - loss: 0.3391 - val_accuracy: 0.8554 - val_loss: 0.3529\n",
      "Epoch 23/1000\n",
      "\u001b[1m536/536\u001b[0m \u001b[32m━━━━━━━━━━━━━━━━━━━━\u001b[0m\u001b[37m\u001b[0m \u001b[1m2s\u001b[0m 3ms/step - accuracy: 0.8572 - loss: 0.3425 - val_accuracy: 0.8561 - val_loss: 0.3429\n",
      "Epoch 24/1000\n",
      "\u001b[1m536/536\u001b[0m \u001b[32m━━━━━━━━━━━━━━━━━━━━\u001b[0m\u001b[37m\u001b[0m \u001b[1m3s\u001b[0m 3ms/step - accuracy: 0.8607 - loss: 0.3382 - val_accuracy: 0.8489 - val_loss: 0.3629\n",
      "Epoch 25/1000\n",
      "\u001b[1m536/536\u001b[0m \u001b[32m━━━━━━━━━━━━━━━━━━━━\u001b[0m\u001b[37m\u001b[0m \u001b[1m3s\u001b[0m 3ms/step - accuracy: 0.8578 - loss: 0.3366 - val_accuracy: 0.8546 - val_loss: 0.3624\n",
      "Epoch 26/1000\n",
      "\u001b[1m536/536\u001b[0m \u001b[32m━━━━━━━━━━━━━━━━━━━━\u001b[0m\u001b[37m\u001b[0m \u001b[1m2s\u001b[0m 3ms/step - accuracy: 0.8746 - loss: 0.3264 - val_accuracy: 0.8554 - val_loss: 0.3438\n",
      "Epoch 27/1000\n",
      "\u001b[1m536/536\u001b[0m \u001b[32m━━━━━━━━━━━━━━━━━━━━\u001b[0m\u001b[37m\u001b[0m \u001b[1m2s\u001b[0m 2ms/step - accuracy: 0.8613 - loss: 0.3349 - val_accuracy: 0.8538 - val_loss: 0.3552\n",
      "Epoch 28/1000\n",
      "\u001b[1m536/536\u001b[0m \u001b[32m━━━━━━━━━━━━━━━━━━━━\u001b[0m\u001b[37m\u001b[0m \u001b[1m1s\u001b[0m 3ms/step - accuracy: 0.8623 - loss: 0.3273 - val_accuracy: 0.8482 - val_loss: 0.3638\n",
      "Epoch 29/1000\n",
      "\u001b[1m536/536\u001b[0m \u001b[32m━━━━━━━━━━━━━━━━━━━━\u001b[0m\u001b[37m\u001b[0m \u001b[1m3s\u001b[0m 3ms/step - accuracy: 0.8567 - loss: 0.3440 - val_accuracy: 0.8538 - val_loss: 0.3501\n",
      "Epoch 30/1000\n",
      "\u001b[1m536/536\u001b[0m \u001b[32m━━━━━━━━━━━━━━━━━━━━\u001b[0m\u001b[37m\u001b[0m \u001b[1m2s\u001b[0m 3ms/step - accuracy: 0.8645 - loss: 0.3251 - val_accuracy: 0.8557 - val_loss: 0.3502\n",
      "Epoch 31/1000\n",
      "\u001b[1m536/536\u001b[0m \u001b[32m━━━━━━━━━━━━━━━━━━━━\u001b[0m\u001b[37m\u001b[0m \u001b[1m3s\u001b[0m 3ms/step - accuracy: 0.8649 - loss: 0.3317 - val_accuracy: 0.8576 - val_loss: 0.3559\n",
      "Epoch 32/1000\n",
      "\u001b[1m536/536\u001b[0m \u001b[32m━━━━━━━━━━━━━━━━━━━━\u001b[0m\u001b[37m\u001b[0m \u001b[1m1s\u001b[0m 2ms/step - accuracy: 0.8628 - loss: 0.3268 - val_accuracy: 0.8512 - val_loss: 0.3636\n",
      "Epoch 33/1000\n",
      "\u001b[1m536/536\u001b[0m \u001b[32m━━━━━━━━━━━━━━━━━━━━\u001b[0m\u001b[37m\u001b[0m \u001b[1m2s\u001b[0m 3ms/step - accuracy: 0.8673 - loss: 0.3191 - val_accuracy: 0.8485 - val_loss: 0.3557\n",
      "Epoch 33: early stopping\n"
     ]
    }
   ],
   "source": [
    "model_history=classifier.fit(X_train,y_train,validation_split=.33,batch_size=10,epochs=1000,callbacks=early_stopping)"
   ]
  },
  {
   "cell_type": "code",
   "execution_count": 23,
   "id": "16be77e3",
   "metadata": {
    "execution": {
     "iopub.execute_input": "2024-05-26T04:48:14.563420Z",
     "iopub.status.busy": "2024-05-26T04:48:14.562905Z",
     "iopub.status.idle": "2024-05-26T04:48:14.571530Z",
     "shell.execute_reply": "2024-05-26T04:48:14.570076Z"
    },
    "papermill": {
     "duration": 0.100745,
     "end_time": "2024-05-26T04:48:14.574162",
     "exception": false,
     "start_time": "2024-05-26T04:48:14.473417",
     "status": "completed"
    },
    "tags": []
   },
   "outputs": [
    {
     "data": {
      "text/plain": [
       "dict_keys(['accuracy', 'loss', 'val_accuracy', 'val_loss'])"
      ]
     },
     "execution_count": 23,
     "metadata": {},
     "output_type": "execute_result"
    }
   ],
   "source": [
    "model_history.history.keys()"
   ]
  },
  {
   "cell_type": "markdown",
   "id": "aec34702",
   "metadata": {
    "papermill": {
     "duration": 0.090428,
     "end_time": "2024-05-26T04:48:14.850016",
     "exception": false,
     "start_time": "2024-05-26T04:48:14.759588",
     "status": "completed"
    },
    "tags": []
   },
   "source": [
    "**plotting**"
   ]
  },
  {
   "cell_type": "code",
   "execution_count": 24,
   "id": "aa18b76e",
   "metadata": {
    "execution": {
     "iopub.execute_input": "2024-05-26T04:48:15.032449Z",
     "iopub.status.busy": "2024-05-26T04:48:15.031411Z",
     "iopub.status.idle": "2024-05-26T04:48:15.390935Z",
     "shell.execute_reply": "2024-05-26T04:48:15.390047Z"
    },
    "papermill": {
     "duration": 0.453739,
     "end_time": "2024-05-26T04:48:15.393628",
     "exception": false,
     "start_time": "2024-05-26T04:48:14.939889",
     "status": "completed"
    },
    "tags": []
   },
   "outputs": [
    {
     "data": {
      "image/png": "[encoded data removed]",
      "text/plain": [
       "<Figure size 640x480 with 1 Axes>"
      ]
     },
     "metadata": {},
     "output_type": "display_data"
    }
   ],
   "source": [
    "plt.plot(model_history.history['accuracy'])\n",
    "plt.plot(model_history.history['val_accuracy'])\n",
    "plt.title(\"model accuracy\")\n",
    "plt.xlabel('accuracy')\n",
    "plt.ylabel('epoch')\n",
    "plt.legend(['train','test'])\n",
    "plt.show()"
   ]
  },
  {
   "cell_type": "code",
   "execution_count": 25,
   "id": "c5fc4598",
   "metadata": {
    "execution": {
     "iopub.execute_input": "2024-05-26T04:48:15.578949Z",
     "iopub.status.busy": "2024-05-26T04:48:15.578548Z",
     "iopub.status.idle": "2024-05-26T04:48:15.843964Z",
     "shell.execute_reply": "2024-05-26T04:48:15.842536Z"
    },
    "papermill": {
     "duration": 0.360695,
     "end_time": "2024-05-26T04:48:15.847079",
     "exception": false,
     "start_time": "2024-05-26T04:48:15.486384",
     "status": "completed"
    },
    "tags": []
   },
   "outputs": [
    {
     "data": {
      "image/png": "[encoded data removed]",
      "text/plain": [
       "<Figure size 640x480 with 1 Axes>"
      ]
     },
     "metadata": {},
     "output_type": "display_data"
    }
   ],
   "source": [
    "plt.plot(model_history.history['loss'])\n",
    "plt.plot(model_history.history['val_loss'])\n",
    "plt.title(\"model loss\")\n",
    "plt.xlabel('loss')\n",
    "plt.ylabel('epoch')\n",
    "plt.legend(['train','test'])\n",
    "plt.show()"
   ]
  },
  {
   "cell_type": "code",
   "execution_count": 26,
   "id": "4ae24820",
   "metadata": {
    "execution": {
     "iopub.execute_input": "2024-05-26T04:48:16.029068Z",
     "iopub.status.busy": "2024-05-26T04:48:16.028060Z",
     "iopub.status.idle": "2024-05-26T04:48:16.314530Z",
     "shell.execute_reply": "2024-05-26T04:48:16.313097Z"
    },
    "papermill": {
     "duration": 0.382325,
     "end_time": "2024-05-26T04:48:16.317478",
     "exception": false,
     "start_time": "2024-05-26T04:48:15.935153",
     "status": "completed"
    },
    "tags": []
   },
   "outputs": [
    {
     "name": "stdout",
     "output_type": "stream",
     "text": [
      "\u001b[1m63/63\u001b[0m \u001b[32m━━━━━━━━━━━━━━━━━━━━\u001b[0m\u001b[37m\u001b[0m \u001b[1m0s\u001b[0m 2ms/step\n"
     ]
    }
   ],
   "source": [
    "y_pred=classifier.predict(X_test)"
   ]
  },
  {
   "cell_type": "code",
   "execution_count": 27,
   "id": "88045b30",
   "metadata": {
    "execution": {
     "iopub.execute_input": "2024-05-26T04:48:16.501419Z",
     "iopub.status.busy": "2024-05-26T04:48:16.501006Z",
     "iopub.status.idle": "2024-05-26T04:48:16.508771Z",
     "shell.execute_reply": "2024-05-26T04:48:16.507392Z"
    },
    "papermill": {
     "duration": 0.10297,
     "end_time": "2024-05-26T04:48:16.511837",
     "exception": false,
     "start_time": "2024-05-26T04:48:16.408867",
     "status": "completed"
    },
    "tags": []
   },
   "outputs": [
    {
     "data": {
      "text/plain": [
       "2000"
      ]
     },
     "execution_count": 27,
     "metadata": {},
     "output_type": "execute_result"
    }
   ],
   "source": [
    "len(y_pred)"
   ]
  },
  {
   "cell_type": "code",
   "execution_count": 28,
   "id": "17845e4e",
   "metadata": {
    "execution": {
     "iopub.execute_input": "2024-05-26T04:48:16.694017Z",
     "iopub.status.busy": "2024-05-26T04:48:16.693062Z",
     "iopub.status.idle": "2024-05-26T04:48:16.699074Z",
     "shell.execute_reply": "2024-05-26T04:48:16.698172Z"
    },
    "papermill": {
     "duration": 0.099207,
     "end_time": "2024-05-26T04:48:16.701430",
     "exception": false,
     "start_time": "2024-05-26T04:48:16.602223",
     "status": "completed"
    },
    "tags": []
   },
   "outputs": [],
   "source": [
    "y_pred=(y_pred>=.5)"
   ]
  },
  {
   "cell_type": "code",
   "execution_count": 29,
   "id": "865a551c",
   "metadata": {
    "execution": {
     "iopub.execute_input": "2024-05-26T04:48:16.886800Z",
     "iopub.status.busy": "2024-05-26T04:48:16.886090Z",
     "iopub.status.idle": "2024-05-26T04:48:16.892523Z",
     "shell.execute_reply": "2024-05-26T04:48:16.891363Z"
    },
    "papermill": {
     "duration": 0.102536,
     "end_time": "2024-05-26T04:48:16.895464",
     "exception": false,
     "start_time": "2024-05-26T04:48:16.792928",
     "status": "completed"
    },
    "tags": []
   },
   "outputs": [
    {
     "data": {
      "text/plain": [
       "array([[False],\n",
       "       [False],\n",
       "       [False],\n",
       "       ...,\n",
       "       [False],\n",
       "       [ True],\n",
       "       [False]])"
      ]
     },
     "execution_count": 29,
     "metadata": {},
     "output_type": "execute_result"
    }
   ],
   "source": [
    "y_pred"
   ]
  },
  {
   "cell_type": "code",
   "execution_count": 30,
   "id": "7cdb1ca4",
   "metadata": {
    "execution": {
     "iopub.execute_input": "2024-05-26T04:48:17.085746Z",
     "iopub.status.busy": "2024-05-26T04:48:17.084940Z",
     "iopub.status.idle": "2024-05-26T04:48:17.090881Z",
     "shell.execute_reply": "2024-05-26T04:48:17.089670Z"
    },
    "papermill": {
     "duration": 0.103872,
     "end_time": "2024-05-26T04:48:17.093928",
     "exception": false,
     "start_time": "2024-05-26T04:48:16.990056",
     "status": "completed"
    },
    "tags": []
   },
   "outputs": [],
   "source": [
    "from sklearn.metrics import confusion_matrix"
   ]
  },
  {
   "cell_type": "code",
   "execution_count": 31,
   "id": "2c6f021a",
   "metadata": {
    "execution": {
     "iopub.execute_input": "2024-05-26T04:48:17.281866Z",
     "iopub.status.busy": "2024-05-26T04:48:17.281461Z",
     "iopub.status.idle": "2024-05-26T04:48:17.289527Z",
     "shell.execute_reply": "2024-05-26T04:48:17.288410Z"
    },
    "papermill": {
     "duration": 0.104787,
     "end_time": "2024-05-26T04:48:17.291942",
     "exception": false,
     "start_time": "2024-05-26T04:48:17.187155",
     "status": "completed"
    },
    "tags": []
   },
   "outputs": [],
   "source": [
    "cm=confusion_matrix(y_test,y_pred)"
   ]
  },
  {
   "cell_type": "code",
   "execution_count": 32,
   "id": "3f89303e",
   "metadata": {
    "execution": {
     "iopub.execute_input": "2024-05-26T04:48:17.478431Z",
     "iopub.status.busy": "2024-05-26T04:48:17.477455Z",
     "iopub.status.idle": "2024-05-26T04:48:17.836069Z",
     "shell.execute_reply": "2024-05-26T04:48:17.834915Z"
    },
    "papermill": {
     "duration": 0.454886,
     "end_time": "2024-05-26T04:48:17.839379",
     "exception": false,
     "start_time": "2024-05-26T04:48:17.384493",
     "status": "completed"
    },
    "tags": []
   },
   "outputs": [],
   "source": [
    "import seaborn as sns"
   ]
  },
  {
   "cell_type": "code",
   "execution_count": 33,
   "id": "06c12539",
   "metadata": {
    "execution": {
     "iopub.execute_input": "2024-05-26T04:48:18.027025Z",
     "iopub.status.busy": "2024-05-26T04:48:18.026586Z",
     "iopub.status.idle": "2024-05-26T04:48:18.344919Z",
     "shell.execute_reply": "2024-05-26T04:48:18.343471Z"
    },
    "papermill": {
     "duration": 0.416176,
     "end_time": "2024-05-26T04:48:18.347675",
     "exception": false,
     "start_time": "2024-05-26T04:48:17.931499",
     "status": "completed"
    },
    "tags": []
   },
   "outputs": [
    {
     "data": {
      "text/plain": [
       "<Axes: >"
      ]
     },
     "execution_count": 33,
     "metadata": {},
     "output_type": "execute_result"
    },
    {
     "data": {
      "image/png": "[encoded data removed]",
      "text/plain": [
       "<Figure size 640x480 with 2 Axes>"
      ]
     },
     "metadata": {},
     "output_type": "display_data"
    }
   ],
   "source": [
    "sns.heatmap(cm,fmt='.2f',annot=True)"
   ]
  },
  {
   "cell_type": "code",
   "execution_count": 34,
   "id": "d716c1ed",
   "metadata": {
    "execution": {
     "iopub.execute_input": "2024-05-26T04:48:18.537469Z",
     "iopub.status.busy": "2024-05-26T04:48:18.537013Z",
     "iopub.status.idle": "2024-05-26T04:48:18.546074Z",
     "shell.execute_reply": "2024-05-26T04:48:18.544989Z"
    },
    "papermill": {
     "duration": 0.107565,
     "end_time": "2024-05-26T04:48:18.548581",
     "exception": false,
     "start_time": "2024-05-26T04:48:18.441016",
     "status": "completed"
    },
    "tags": []
   },
   "outputs": [
    {
     "data": {
      "text/plain": [
       "0.852"
      ]
     },
     "execution_count": 34,
     "metadata": {},
     "output_type": "execute_result"
    }
   ],
   "source": [
    "from sklearn.metrics import accuracy_score\n",
    "accuracy_score(y_test,y_pred)"
   ]
  },
  {
   "cell_type": "markdown",
   "id": "06b3aece",
   "metadata": {
    "papermill": {
     "duration": 0.091419,
     "end_time": "2024-05-26T04:48:18.730685",
     "exception": false,
     "start_time": "2024-05-26T04:48:18.639266",
     "status": "completed"
    },
    "tags": []
   },
   "source": [
    "**weightage**"
   ]
  },
  {
   "cell_type": "code",
   "execution_count": 35,
   "id": "9bb333c0",
   "metadata": {
    "execution": {
     "iopub.execute_input": "2024-05-26T04:48:18.917245Z",
     "iopub.status.busy": "2024-05-26T04:48:18.915733Z",
     "iopub.status.idle": "2024-05-26T04:48:18.940892Z",
     "shell.execute_reply": "2024-05-26T04:48:18.939714Z"
    },
    "papermill": {
     "duration": 0.120152,
     "end_time": "2024-05-26T04:48:18.943667",
     "exception": false,
     "start_time": "2024-05-26T04:48:18.823515",
     "status": "completed"
    },
    "tags": []
   },
   "outputs": [
    {
     "data": {
      "text/plain": [
       "[array([[ 2.7751529e-01, -2.6874369e-01,  4.9975622e-01,  1.3866009e-01,\n",
       "          6.3164884e-01,  9.3211025e-02,  1.8796160e+00,  4.1567639e-01,\n",
       "          4.3167374e-01, -2.8729260e-01, -6.8308324e-02],\n",
       "        [ 1.3628854e+00, -8.3934712e-01, -3.2932568e+00,  5.0487930e-01,\n",
       "         -1.8567349e+00, -3.1308708e+00,  3.3878502e-01,  2.6068020e-01,\n",
       "         -3.5372764e-01, -1.0120165e+00,  1.9773192e+00],\n",
       "        [-7.0175879e-02,  1.5385537e-01, -3.1511029e-03, -2.8229034e-01,\n",
       "         -7.2367258e-02, -1.8769227e-01, -4.1594231e-01, -3.0685514e-01,\n",
       "          1.7667772e+00,  7.6203310e-01,  1.1012344e+00],\n",
       "        [ 9.5416434e-02,  3.8537332e-01,  3.7000364e-01, -5.8081263e-01,\n",
       "          2.5851691e-01, -9.6456301e-01, -1.5401084e+00, -2.7405131e+00,\n",
       "          3.6082301e-01,  1.6338010e+00, -1.5243340e+00],\n",
       "        [ 1.5551869e+00,  2.7551172e+00, -3.9991614e-01, -2.5604179e+00,\n",
       "         -7.6703840e-01,  3.9579633e-01, -7.6935405e-01, -2.7889662e+00,\n",
       "          6.3951534e-01,  1.7377670e+00, -2.4976106e-02],\n",
       "        [-1.8134893e-01, -1.4165682e-01,  1.6817875e-02,  9.1288604e-02,\n",
       "          4.2113654e-02, -5.8258593e-02,  8.9553392e-01,  1.1610718e-01,\n",
       "          1.2648634e+00,  5.5301279e-01,  1.0599744e+00],\n",
       "        [-1.5539820e+00,  3.4369032e-03, -1.0334805e+00, -1.2947595e+00,\n",
       "         -4.4755873e-01, -2.1324189e-01,  3.2739732e-02, -2.0101497e-01,\n",
       "          6.1138771e-02, -7.4811834e-01,  1.3672075e+00],\n",
       "        [ 3.8081598e-01,  3.6362287e-01,  5.0941631e-02, -5.3003395e-01,\n",
       "         -6.0472733e-01,  1.9039653e-02,  1.1325035e+00,  6.4486247e-01,\n",
       "          2.4759395e-01, -8.0407161e-01, -4.3296269e-01],\n",
       "        [-1.7891368e+00, -1.5181458e-01,  4.9662113e-02,  1.6534721e+00,\n",
       "         -1.6148711e+00,  2.1027014e-01, -7.4810185e-02, -1.4320825e+00,\n",
       "         -1.4765320e+00,  2.3532279e-01, -4.2020214e-01],\n",
       "        [ 5.0816333e-01, -1.9178335e-01,  4.0302548e-01, -1.0538148e+00,\n",
       "         -1.4440122e+00,  4.0568579e-02,  5.2963370e-01,  1.2791108e-01,\n",
       "         -9.2096448e-01,  5.9359372e-01, -6.5353081e-02],\n",
       "        [ 3.1156880e-01,  1.6606888e-01,  4.5987344e-01,  3.3140156e-02,\n",
       "          1.1239812e+00,  3.8474587e-01,  5.6488771e-02, -5.5424225e-02,\n",
       "          2.5336480e+00,  8.3853555e-01,  6.2281424e-01]], dtype=float32),\n",
       " array([-1.8466057 , -3.837402  , -2.4065301 , -0.73730665, -0.4163583 ,\n",
       "         3.2223349 , -0.85499215, -2.5514936 , -0.8229423 , -2.5848353 ,\n",
       "        -1.0612698 ], dtype=float32),\n",
       " array([[-1.2088002 , -0.07329662, -0.68158203,  0.9145398 ,  0.02867111,\n",
       "         -0.64634883,  0.06396693],\n",
       "        [-1.7664793 , -0.2143255 , -0.04744452,  2.8133955 , -1.938318  ,\n",
       "         -0.5515756 , -1.8558568 ],\n",
       "        [-0.57300824, -0.4488377 , -0.3002312 ,  0.5346075 , -0.60999674,\n",
       "         -0.17840901, -1.1816151 ],\n",
       "        [-1.806555  , -0.4107649 , -0.4476036 ,  0.79552764, -0.5356219 ,\n",
       "         -0.39571288, -0.17754915],\n",
       "        [-0.02961811,  0.00825496, -0.53421956, -1.1626654 ,  0.11054603,\n",
       "         -0.0391492 ,  0.82581127],\n",
       "        [ 0.2014607 , -0.24444276, -0.01328445, -2.599168  ,  0.71443295,\n",
       "         -0.10954227,  0.85486335],\n",
       "        [ 0.24615073,  0.07879221, -0.7025616 ,  0.5332207 ,  0.88463026,\n",
       "         -0.25870228, -0.09519678],\n",
       "        [-2.139626  , -0.7541317 , -0.03890791,  0.5170975 , -2.2639482 ,\n",
       "          0.07042493, -0.1802962 ],\n",
       "        [-1.3798912 , -0.04444531, -0.26619196,  0.13110663,  0.47365174,\n",
       "         -0.12054594, -2.220764  ],\n",
       "        [ 1.589659  , -0.82657045, -0.24446948,  1.2781366 ,  0.6874291 ,\n",
       "         -0.17100835, -0.32980216],\n",
       "        [-0.00906475, -0.23065992, -0.6063092 , -0.76782423,  0.43307835,\n",
       "         -0.7190044 ,  0.94097686]], dtype=float32),\n",
       " array([ 0.47599956, -0.35223606, -0.11869822, -0.97525954,  0.85822403,\n",
       "        -0.69235325, -1.206102  ], dtype=float32),\n",
       " array([[ 0.36807242, -0.24611871, -0.2597316 ,  0.9742107 , -0.14621365,\n",
       "          0.3865265 ],\n",
       "        [-0.34802672,  0.3200092 , -0.01551014,  0.4760061 , -0.41060063,\n",
       "         -0.11746358],\n",
       "        [-0.4084541 ,  0.10219473,  0.5808452 ,  0.3541221 , -0.6186228 ,\n",
       "         -0.03974235],\n",
       "        [-0.40558192, -0.526636  , -0.50873137, -0.5537507 , -0.5268494 ,\n",
       "         -0.42998368],\n",
       "        [ 0.11839413, -0.84325236,  0.00333737, -0.07113197, -0.25573385,\n",
       "          0.32265046],\n",
       "        [-0.08883427, -0.15755521,  0.42175677, -0.52760607, -0.528076  ,\n",
       "         -0.08117661],\n",
       "        [-0.29547495, -0.03989105, -0.5851798 , -1.4668832 , -0.6450492 ,\n",
       "          0.5567293 ]], dtype=float32),\n",
       " array([ 2.0192015 , -0.00462474, -0.31363457,  0.8064809 ,  0.        ,\n",
       "         2.3939047 ], dtype=float32),\n",
       " array([[-0.4066553 ],\n",
       "        [ 0.0059917 ],\n",
       "        [ 0.5549678 ],\n",
       "        [-0.19709939],\n",
       "        [-0.6815026 ],\n",
       "        [-0.83599365]], dtype=float32),\n",
       " array([2.668724], dtype=float32)]"
      ]
     },
     "execution_count": 35,
     "metadata": {},
     "output_type": "execute_result"
    }
   ],
   "source": [
    "classifier.get_weights()"
   ]
  }
 ],
 "metadata": {
  "kaggle": {
   "accelerator": "none",
   "dataSources": [
    {
     "datasetId": 2008274,
     "sourceId": 3322096,
     "sourceType": "datasetVersion"
    }
   ],
   "dockerImageVersionId": 30698,
   "isGpuEnabled": false,
   "isInternetEnabled": false,
   "language": "python",
   "sourceType": "notebook"
  },
  "kernelspec": {
   "display_name": "Python 3",
   "language": "python",
   "name": "python3"
  },
  "language_info": {
   "codemirror_mode": {
    "name": "ipython",
    "version": 3
   },
   "file_extension": ".py",
   "mimetype": "text/x-python",
   "name": "python",
   "nbconvert_exporter": "python",
   "pygments_lexer": "ipython3",
   "version": "3.10.13"
  },
  "papermill": {
   "default_parameters": {},
   "duration": 98.631289,
   "end_time": "2024-05-26T04:48:21.482666",
   "environment_variables": {},
   "exception": null,
   "input_path": "__notebook__.ipynb",
   "output_path": "__notebook__.ipynb",
   "parameters": {},
   "start_time": "2024-05-26T04:46:42.851377",
   "version": "2.5.0"
  }
 },
 "nbformat": 4,
 "nbformat_minor": 5
}
